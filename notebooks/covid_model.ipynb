{
 "cells": [
  {
   "cell_type": "code",
   "execution_count": 13,
   "metadata": {},
   "outputs": [
    {
     "name": "stdout",
     "output_type": "stream",
     "text": [
      "Automatic calling is: Smart\n",
      "The autoreload extension is already loaded. To reload it, use:\n",
      "  %reload_ext autoreload\n"
     ]
    }
   ],
   "source": [
    "from boot_utes import (reload, add_path, path, run_magics)\n",
    "add_path('..', '../src/', '~/repos/myutils/', )\n",
    "\n",
    "from src.crash_imps import *; exec(pu.DFCols_str); exec(pu.qexpr_str); run_magics()\n",
    "# import utils.en_utils as eu; import data.load_data as ld; exec(eu.sort_dfs_str)\n",
    "\n",
    "sns.set_style('whitegrid')\n",
    "\n",
    "\n",
    "# A.data_transformers.enable('json', prefix='../data/altair-data')\n",
    "A.data_transformers.enable('default')\n",
    "\n",
    "S = Series; D = DataFrame\n",
    "\n",
    "from big_query import bq_read\n",
    "\n",
    "import warnings\n",
    "from matplotlib import MatplotlibDeprecationWarning\n",
    "\n",
    "from joblib import Memory\n",
    "\n",
    "mem = Memory(location=\"cache\", verbose=0)\n",
    "\n",
    "import altair.vegalite.v3 as A\n",
    "import requests\n",
    "pd.options.display.max_rows = 100\n",
    "pd.options.display.min_rows = 40"
   ]
  },
  {
   "cell_type": "markdown",
   "metadata": {},
   "source": [
    "# Load"
   ]
  },
  {
   "cell_type": "code",
   "execution_count": 5,
   "metadata": {},
   "outputs": [],
   "source": [
    "import covid_scrape as cvs\n",
    "from covid_scrape import lgs, pl\n",
    "import model_transformations as mtx\n",
    "\n",
    "data_dir = Path('../data')\n",
    "load_states = mem.cache(cvs.load_states)"
   ]
  },
  {
   "cell_type": "code",
   "execution_count": 11,
   "metadata": {},
   "outputs": [
    {
     "name": "stdout",
     "output_type": "stream",
     "text": [
      "written today\n",
      "File for 2020-03-22 already exists!\n"
     ]
    }
   ],
   "source": [
    "cvs.pull_and_save_ga_county()\n",
    "cvs.pull_and_save_ga_agg()\n",
    "dfct = cvs.load_ga_county()\n",
    "ga_agg = cvs.load_ga_agg()"
   ]
  },
  {
   "cell_type": "code",
   "execution_count": 10,
   "metadata": {},
   "outputs": [
    {
     "name": "stdout",
     "output_type": "stream",
     "text": [
      "Max date 20200322\n",
      "Current actual max date: 20200322\n"
     ]
    }
   ],
   "source": [
    "dfs = (\n",
    "    load_states(date=\"03-20\")\n",
    "    .sort_values([\"state\", \"date\"], ascending=True)\n",
    "    .reset_index(drop=1)\n",
    ")\n",
    "print(f\"Max date {dfs.date.max()}\")\n",
    "dfs = cvs.process_state(dfs)\n",
    "print(f\"Current actual max date: {cvs.load_states().date.max()}\")"
   ]
  },
  {
   "cell_type": "markdown",
   "metadata": {},
   "source": [
    "# Models"
   ]
  },
  {
   "cell_type": "markdown",
   "metadata": {},
   "source": [
    "## Mortality model"
   ]
  },
  {
   "cell_type": "code",
   "execution_count": 14,
   "metadata": {},
   "outputs": [],
   "source": [
    "def write_model(mbase, dfsim, form, plot):\n",
    "    \"\"\"\n",
    "    Save formula, plots, vegalite spec, predicted data to `mbase`\n",
    "    model dir.\n",
    "    \"\"\"\n",
    "    dfsim.to_parquet(mbase / 'preds.pq')\n",
    "    with open(mbase / 'form.txt', 'w') as fp:\n",
    "        fp.write(f\"Formula: {form}\")\n",
    "        \n",
    "    with A.data_transformers.enable('default'):\n",
    "        A.Chart.save(plot, str(mbase / 'preds.png'))\n",
    "        A.Chart.save(plot, str(mbase / 'preds.json'))"
   ]
  },
  {
   "cell_type": "code",
   "execution_count": 28,
   "metadata": {},
   "outputs": [],
   "source": [
    "# import pystan\n",
    "\n",
    "def log_preds(df):\n",
    "    preds = [c for c in df if c.startswith('pred_')]\n",
    "    df = df.assign(**{pred: lambda x, pred=pred: 10 ** x[pred] for pred in preds})\n",
    "    return df\n",
    "\n",
    "dfd = cvs.filter_mortality(dfs)\n",
    "\n",
    "dfd = (\n",
    "    dfd.assign(\n",
    "        ldeaths=lambda x: x.death.pipe(np.log10),\n",
    "        daysi=lambda x: (x.date - x.date.min()).astype('timedelta64[D]').astype(int)\n",
    "    )\n",
    "    .reset_index(drop=1)\n",
    "    .drop([\"dateChecked\", 'pending'], axis=1)\n",
    ")\n",
    "\n",
    "[min_date] = dfd.query(\"daysi == 0\").date\n",
    "\n",
    "def dayi2date(i):\n",
    "    return min_date + pd.Timedelta(days=i)\n",
    "\n",
    "dfsim1_ = mtx.mk_sim_df1(dfd).assign(date=lambda x: x.daysi.map(dayi2date))\n",
    "\n",
    "# Write to R; generate simulations\n",
    "dfd.to_feather(data_dir / 'mort_0320.fth')\n",
    "dfsim1_.to_feather(data_dir / 'mort_0320_sim.fth')"
   ]
  },
  {
   "cell_type": "markdown",
   "metadata": {},
   "source": [
    "## Model v1"
   ]
  },
  {
   "cell_type": "code",
   "execution_count": 31,
   "metadata": {},
   "outputs": [],
   "source": [
    "# Read end result\n",
    "dfsim_out = pd.read_feather('covid/data/mort_0320_sim_out.fth')\n",
    "dfsim1 = dfsim1_.merge(dfsim_out, on='row').pipe(log_preds)"
   ]
  },
  {
   "cell_type": "markdown",
   "metadata": {},
   "source": [
    "#### Plot Results"
   ]
  },
  {
   "cell_type": "code",
   "execution_count": 45,
   "metadata": {},
   "outputs": [
    {
     "data": {
      "application/vnd.vegalite.v3+json": {
       "$schema": "https://vega.github.io/schema/vega-lite/v3.4.0.json",
       "config": {
        "mark": {
         "tooltip": null
        },
        "view": {
         "height": 300,
         "width": 400
        }
       },
       "data": {
        "format": {
         "type": "json"
        },
        "url": "data/altair-data-65db6be3f3e9a837d09651fcf074a323.json"
       },
       "layer": [
        {
         "encoding": {
          "color": {
           "field": "state",
           "type": "nominal"
          },
          "tooltip": [
           {
            "field": "state",
            "type": "nominal"
           },
           {
            "field": "daysi",
            "type": "quantitative"
           },
           {
            "field": "pred_mu",
            "type": "quantitative"
           }
          ],
          "x": {
           "field": "daysi",
           "title": "daysi",
           "type": "quantitative"
          },
          "y": {
           "field": "pred_mu",
           "scale": {
            "type": "log",
            "zero": false
           },
           "title": "pred_mu",
           "type": "quantitative"
          }
         },
         "mark": "line"
        },
        {
         "encoding": {
          "color": {
           "field": "state",
           "type": "nominal"
          },
          "tooltip": [
           {
            "field": "state",
            "type": "nominal"
           },
           {
            "field": "daysi",
            "type": "quantitative"
           },
           {
            "field": "pred_mu",
            "type": "quantitative"
           }
          ],
          "x": {
           "field": "daysi",
           "title": "daysi",
           "type": "quantitative"
          },
          "y": {
           "field": "pred_mu",
           "scale": {
            "type": "log",
            "zero": false
           },
           "title": "pred_mu",
           "type": "quantitative"
          }
         },
         "mark": "point"
        },
        {
         "data": {
          "format": {
           "type": "json"
          },
          "url": "data/altair-data-eaa690c20b91cada954326600b2ecd5a.json"
         },
         "layer": [
          {
           "encoding": {
            "color": {
             "field": "state",
             "type": "nominal"
            },
            "tooltip": [
             {
              "field": "state",
              "type": "nominal"
             },
             {
              "field": "daysi",
              "type": "quantitative"
             },
             {
              "field": "pred_mu",
              "type": "quantitative"
             }
            ],
            "x": {
             "field": "daysi",
             "title": "daysi",
             "type": "quantitative"
            },
            "y": {
             "field": "pred_mu",
             "scale": {
              "type": "log",
              "zero": false
             },
             "title": "pred_mu",
             "type": "quantitative"
            }
           },
           "mark": "line"
          },
          {
           "encoding": {
            "color": {
             "field": "state",
             "type": "nominal"
            },
            "tooltip": [
             {
              "field": "state",
              "type": "nominal"
             },
             {
              "field": "daysi",
              "type": "quantitative"
             },
             {
              "field": "pred_mu",
              "type": "quantitative"
             }
            ],
            "x": {
             "field": "daysi",
             "title": "daysi",
             "type": "quantitative"
            },
            "y": {
             "field": "pred_mu",
             "scale": {
              "type": "log",
              "zero": false
             },
             "title": "pred_mu",
             "type": "quantitative"
            }
           },
           "mark": "point"
          },
          {
           "encoding": {
            "color": {
             "field": "state",
             "type": "nominal"
            },
            "tooltip": [
             {
              "field": "state",
              "type": "nominal"
             },
             {
              "field": "daysi",
              "type": "quantitative"
             },
             {
              "field": "pred_mu",
              "type": "quantitative"
             }
            ],
            "x": {
             "field": "daysi",
             "type": "quantitative"
            },
            "y": {
             "field": "pred_q10",
             "type": "quantitative"
            },
            "y2": {
             "field": "pred_q90"
            }
           },
           "mark": "errorband"
          }
         ]
        }
       ],
       "title": "bf(ldeaths ~ daysi + (1 | state)) + gaussian()"
      },
      "image/png": "[encoded data removed]",
      "text/plain": [
       "<VegaLite 3 object>\n",
       "\n",
       "If you see this message, it means the renderer has not been properly enabled\n",
       "for the frontend that you are using. For more information, see\n",
       "https://altair-viz.github.io/user_guide/troubleshooting.html\n"
      ]
     },
     "execution_count": 45,
     "metadata": {},
     "output_type": "execute_result"
    }
   ],
   "source": [
    "color = \"state\"\n",
    "x = \"daysi\"\n",
    "y = \"pred_mu\"\n",
    "\n",
    "\n",
    "pred = dfsim1\n",
    "actual = dfd.assign(pred_mu=lambda x: x[\"death\"])\n",
    "\n",
    "\n",
    "def deco(ch):\n",
    "    h = ch.mark_line().encode(\n",
    "        x=A.X(x, title=x),\n",
    "        y=A.Y(y, title=y, scale=lgs),\n",
    "        color=color,\n",
    "        tooltip=[color, x, y],\n",
    "    )\n",
    "    return h\n",
    "\n",
    "\n",
    "h_act = deco(Chart(actual))\n",
    "h_est = deco(Chart(pred))\n",
    "h_est_err = h_est.mark_errorband().encode(\n",
    "    y=\"pred_q10\", y2=\"pred_q90\", x=\"daysi\", color=color,\n",
    ")\n",
    "\n",
    "ch_act = h_act + h_act.mark_point()\n",
    "ch_est = h_est + h_est.mark_point() + h_est_err\n",
    "\n",
    "\n",
    "form1 = \"bf(ldeaths ~ daysi + (1 | state)) + gaussian()\"\n",
    "save_ch = (ch_act + ch_est).properties(title=form1)\n",
    "save_ch"
   ]
  },
  {
   "cell_type": "code",
   "execution_count": 51,
   "metadata": {},
   "outputs": [],
   "source": [
    "# m1_path = Path('covid/models/mortal/v1')\n",
    "# write_model(m1_path, dfsim1, \"bf(ldeaths ~ daysi + (1 | state)) + gaussian()\", save_ch)"
   ]
  },
  {
   "cell_type": "markdown",
   "metadata": {},
   "source": [
    "## Model v2"
   ]
  },
  {
   "cell_type": "code",
   "execution_count": 44,
   "metadata": {},
   "outputs": [],
   "source": [
    "dfsim_out = pd.read_feather(data_dir / 'mort_v2_sim_out.fth')\n",
    "dfsim2 = dfsim1_.merge(dfsim_out, on='row').pipe(log_preds).assign(date=lambda x: x.daysi.map(dayi2date))"
   ]
  },
  {
   "cell_type": "code",
   "execution_count": 43,
   "metadata": {},
   "outputs": [
    {
     "data": {
      "application/vnd.vegalite.v3+json": {
       "$schema": "https://vega.github.io/schema/vega-lite/v3.4.0.json",
       "config": {
        "mark": {
         "tooltip": null
        },
        "view": {
         "height": 300,
         "width": 400
        }
       },
       "data": {
        "name": "data-05658a742a3228498bfa52dd76a44945"
       },
       "datasets": {
        "data-05658a742a3228498bfa52dd76a44945": [
         {
          "Est.Error": 0.005666946629892594,
          "Estimate": 0.05368890788799571,
          "Q2.5": 0.04251329872875055,
          "Q97.5": 0.06500587994469342,
          "state": "WA"
         },
         {
          "Est.Error": 0.006268192778623759,
          "Estimate": 0.095879910296081,
          "Q2.5": 0.0832105932049626,
          "Q97.5": 0.10803888628265174,
          "state": "CA"
         },
         {
          "Est.Error": 0.009967164475279244,
          "Estimate": 0.08136890207386677,
          "Q2.5": 0.06123815995533871,
          "Q97.5": 0.10152855114242594,
          "state": "FL"
         },
         {
          "Est.Error": 0.012363901219180377,
          "Estimate": 0.1958431351000863,
          "Q2.5": 0.17114245396924319,
          "Q97.5": 0.22068676595720166,
          "state": "NY"
         },
         {
          "Est.Error": 0.015181157340695308,
          "Estimate": 0.13608002550579393,
          "Q2.5": 0.1072591594704846,
          "Q97.5": 0.16633156969445434,
          "state": "LA"
         },
         {
          "Est.Error": 0.018711591318472498,
          "Estimate": 0.13575679052900236,
          "Q2.5": 0.09856810818570828,
          "Q97.5": 0.17213813524192453,
          "state": "NJ"
         },
         {
          "Est.Error": 0.023522058103532324,
          "Estimate": 0.11048961511672156,
          "Q2.5": 0.06253240134376575,
          "Q97.5": 0.15740646765984737,
          "state": "GA"
         },
         {
          "Est.Error": 0.023912156380181217,
          "Estimate": 0.1049401080734298,
          "Q2.5": 0.0576061379783269,
          "Q97.5": 0.15114762713758623,
          "state": "IL"
         },
         {
          "Est.Error": 0.03207564601724902,
          "Estimate": 0.051003640951543396,
          "Q2.5": -0.014381921140136391,
          "Q97.5": 0.1111882384958919,
          "state": "TX"
         },
         {
          "Est.Error": 0.037014966208564926,
          "Estimate": 0.08395613495267719,
          "Q2.5": 0.012446164100843763,
          "Q97.5": 0.1566504786385935,
          "state": "CO"
         },
         {
          "Est.Error": 0.03796858807322878,
          "Estimate": 0.0965914990618381,
          "Q2.5": 0.02338551045443341,
          "Q97.5": 0.17367802346478511,
          "state": "IN"
         },
         {
          "Est.Error": 0.04062486905867363,
          "Estimate": 0.07841926018247693,
          "Q2.5": -0.000794731280753499,
          "Q97.5": 0.15836327440935877,
          "state": "OR"
         }
        ]
       },
       "layer": [
        {
         "encoding": {
          "tooltip": [
           {
            "field": "state",
            "type": "nominal"
           },
           {
            "field": "Estimate",
            "type": "quantitative"
           }
          ],
          "x": {
           "field": "state",
           "sort": null,
           "title": "state",
           "type": "nominal"
          },
          "y": {
           "field": "Q2.5",
           "type": "quantitative"
          },
          "y2": {
           "field": "Q97.5"
          }
         },
         "mark": "errorbar"
        },
        {
         "encoding": {
          "tooltip": [
           {
            "field": "state",
            "type": "nominal"
           },
           {
            "field": "Estimate",
            "type": "quantitative"
           }
          ],
          "x": {
           "field": "state",
           "sort": null,
           "title": "state",
           "type": "nominal"
          },
          "y": {
           "field": "Estimate",
           "title": "Estimate",
           "type": "quantitative"
          }
         },
         "mark": "point"
        }
       ]
      },
      "image/png": "[encoded data removed]",
      "text/plain": [
       "<VegaLite 3 object>\n",
       "\n",
       "If you see this message, it means the renderer has not been properly enabled\n",
       "for the frontend that you are using. For more information, see\n",
       "https://altair-viz.github.io/user_guide/troubleshooting.html\n"
      ]
     },
     "execution_count": 43,
     "metadata": {},
     "output_type": "execute_result"
    }
   ],
   "source": [
    "color = 'dvers'\n",
    "x = 'state'\n",
    "y = 'Estimate'\n",
    "\n",
    "m2_coefs = (\n",
    "    pd.read_feather(data_dir / \"mort_m2_coef.fth\")\n",
    "    .sort_values(\"Est.Error\", ascending=True)\n",
    "    .reset_index(drop=1)\n",
    ")\n",
    "\n",
    "pdf = m2_coefs\n",
    "\n",
    "h = Chart(pdf).mark_point().encode(\n",
    "    x=A.X(x, title=x, sort=None),\n",
    "    y=A.Y(y, title=y),\n",
    "    tooltip=[x, y]\n",
    ")\n",
    "\n",
    "herr = h.mark_errorbar().encode(y='Q2.5', y2='Q97.5')\n",
    "# (h + h.mark_point()).interactive()\n",
    "herr + h"
   ]
  },
  {
   "cell_type": "code",
   "execution_count": 41,
   "metadata": {},
   "outputs": [
    {
     "data": {
      "application/vnd.vegalite.v3+json": {
       "$schema": "https://vega.github.io/schema/vega-lite/v3.4.0.json",
       "config": {
        "mark": {
         "tooltip": null
        },
        "view": {
         "height": 300,
         "width": 400
        }
       },
       "data": {
        "name": "data-1058c40415f4b9ea1846fc10d6717b2d"
       },
       "datasets": {
        "data-1058c40415f4b9ea1846fc10d6717b2d": [
         {
          "Est.Error": 0.006135458396751267,
          "Estimate": 0.05330207511460708,
          "Q2.5": 0.04150050968123102,
          "Q97.5": 0.06532977344751176,
          "state": "WA"
         },
         {
          "Est.Error": 0.006812472239245429,
          "Estimate": 0.09847020204756238,
          "Q2.5": 0.08462166900594265,
          "Q97.5": 0.11184096375828903,
          "state": "CA"
         },
         {
          "Est.Error": 0.011532081536857178,
          "Estimate": 0.08532807825380083,
          "Q2.5": 0.06258659125878359,
          "Q97.5": 0.10824224099639712,
          "state": "FL"
         },
         {
          "Est.Error": 0.014851972606978549,
          "Estimate": 0.16423785856269885,
          "Q2.5": 0.13379088520284624,
          "Q97.5": 0.19283021701884615,
          "state": "NY"
         },
         {
          "Est.Error": 0.017881760227636056,
          "Estimate": 0.1385263420853495,
          "Q2.5": 0.10394483765349409,
          "Q97.5": 0.17320525321206476,
          "state": "LA"
         },
         {
          "Est.Error": 0.02389498801503897,
          "Estimate": 0.13686469669605583,
          "Q2.5": 0.0886901798892808,
          "Q97.5": 0.18330036412071607,
          "state": "NJ"
         },
         {
          "Est.Error": 0.029429369501406368,
          "Estimate": 0.08713024727191397,
          "Q2.5": 0.02730765785379664,
          "Q97.5": 0.14265795763249478,
          "state": "IL"
         },
         {
          "Est.Error": 0.0295872245401051,
          "Estimate": 0.09043661474739946,
          "Q2.5": 0.032100418239194455,
          "Q97.5": 0.1506318728538759,
          "state": "GA"
         },
         {
          "Est.Error": 0.037639457075707455,
          "Estimate": 0.0711424747479991,
          "Q2.5": -0.0063256968888701515,
          "Q97.5": 0.14578366406227583,
          "state": "TX"
         },
         {
          "Est.Error": 0.03927945225845146,
          "Estimate": 0.0792631281296551,
          "Q2.5": 0.0006138801116675412,
          "Q97.5": 0.1556783935735041,
          "state": "IN"
         },
         {
          "Est.Error": 0.04149071055060232,
          "Estimate": 0.07886680857736326,
          "Q2.5": -0.006379018392771233,
          "Q97.5": 0.15723262643845864,
          "state": "CO"
         }
        ]
       },
       "layer": [
        {
         "encoding": {
          "tooltip": [
           {
            "field": "state",
            "type": "nominal"
           },
           {
            "field": "Estimate",
            "type": "quantitative"
           }
          ],
          "x": {
           "field": "state",
           "sort": null,
           "title": "state",
           "type": "nominal"
          },
          "y": {
           "field": "Q2.5",
           "type": "quantitative"
          },
          "y2": {
           "field": "Q97.5"
          }
         },
         "mark": "errorbar"
        },
        {
         "encoding": {
          "tooltip": [
           {
            "field": "state",
            "type": "nominal"
           },
           {
            "field": "Estimate",
            "type": "quantitative"
           }
          ],
          "x": {
           "field": "state",
           "sort": null,
           "title": "state",
           "type": "nominal"
          },
          "y": {
           "field": "Estimate",
           "title": "Estimate",
           "type": "quantitative"
          }
         },
         "mark": "point"
        }
       ]
      },
      "image/png": "[encoded data removed]",
      "text/plain": [
       "<VegaLite 3 object>\n",
       "\n",
       "If you see this message, it means the renderer has not been properly enabled\n",
       "for the frontend that you are using. For more information, see\n",
       "https://altair-viz.github.io/user_guide/troubleshooting.html\n"
      ]
     },
     "execution_count": 41,
     "metadata": {},
     "output_type": "execute_result"
    }
   ],
   "source": []
  },
  {
   "cell_type": "code",
   "execution_count": 50,
   "metadata": {},
   "outputs": [],
   "source": [
    "def plot_preds_act(dfsim, dfd, form, x = \"daysi\", log=True):\n",
    "    color = \"state\"\n",
    "    yargs = {}\n",
    "    if log:\n",
    "        yargs['scale'] = lgs\n",
    "    y = \"pred_mu\"\n",
    "\n",
    "    pred = dfsim\n",
    "    actual = dfd.assign(pred_mu=lambda x: x[\"death\"])\n",
    "\n",
    "    def deco(ch):\n",
    "        h = ch.mark_line().encode(\n",
    "            x=A.X(x, title=x),\n",
    "            y=A.Y(y, title=y, **yargs),\n",
    "            color=color,\n",
    "            tooltip=[color, x, y],\n",
    "        )\n",
    "        return h\n",
    "\n",
    "    h_act = deco(Chart(actual))\n",
    "    h_est = deco(Chart(pred))\n",
    "    h_est_err = h_est.mark_errorband().encode(\n",
    "        y=\"pred_q10\", y2=\"pred_q90\", x=x, color=color\n",
    "    )\n",
    "\n",
    "    ch_act = h_act + h_act.mark_point()\n",
    "    ch_est = h_est + h_est.mark_point() + h_est_err\n",
    "\n",
    "    save_ch = (ch_act + ch_est).properties(title=form)\n",
    "    return save_ch\n",
    "\n",
    "\n",
    "# bf(ldeaths ~ (1 | state) + daysi + (0 + daysi | state))\n",
    "form2 = \"ldeaths ~ (1 | state) + daysi + (0 + daysi | state)\"\n",
    "\n",
    "m2pl_lin = plot_preds_act(dfsim=dfsim2, dfd=dfd, form=form2, x='date', log=0).properties(width=900, height=600)\n",
    "m2pl_log = plot_preds_act(dfsim=dfsim2, dfd=dfd, form=form2, x='date', log=1).properties(width=900, height=600)\n",
    "\n",
    "with A.data_transformers.enable('default'):\n",
    "    A.Chart.save(m2pl_lin, '../fig/m2_pred_lin_0322.png')\n",
    "\n",
    "with A.data_transformers.enable('default'):\n",
    "    A.Chart.save(m2pl_log, '../fig/m2_pred_log_0322.png')"
   ]
  },
  {
   "cell_type": "code",
   "execution_count": 52,
   "metadata": {},
   "outputs": [
    {
     "data": {
      "application/vnd.vegalite.v3+json": {
       "$schema": "https://vega.github.io/schema/vega-lite/v3.4.0.json",
       "config": {
        "mark": {
         "tooltip": null
        },
        "view": {
         "height": 300,
         "width": 400
        }
       },
       "datasets": {
        "data-d7ae5e6fc8f06d9d05683b4480893f6b": [
         {
          "date": "2020-03-12T00:00:00",
          "daysi": 1,
          "death": 4,
          "dupe_neg": true,
          "hospitalized": null,
          "ldeaths": 0.6020599913279624,
          "n_pct_rows": 19,
          "negative": 916,
          "perc": 0.1806797853309481,
          "pos_delayed": null,
          "positive": 202,
          "pred_mu": 4,
          "state": "CA",
          "total": 1118
         },
         {
          "date": "2020-03-13T00:00:00",
          "daysi": 2,
          "death": 4,
          "dupe_neg": true,
          "hospitalized": null,
          "ldeaths": 0.6020599913279624,
          "n_pct_rows": 19,
          "negative": 916,
          "perc": 0.1806797853309481,
          "pos_delayed": null,
          "positive": 202,
          "pred_mu": 4,
          "state": "CA",
          "total": 1118
         },
         {
          "date": "2020-03-14T00:00:00",
          "daysi": 3,
          "death": 5,
          "dupe_neg": true,
          "hospitalized": null,
          "ldeaths": 0.6989700043360189,
          "n_pct_rows": 19,
          "negative": 916,
          "perc": 0.21575342465753425,
          "pos_delayed": null,
          "positive": 252,
          "pred_mu": 5,
          "state": "CA",
          "total": 1168
         },
         {
          "date": "2020-03-15T00:00:00",
          "daysi": 4,
          "death": 5,
          "dupe_neg": true,
          "hospitalized": null,
          "ldeaths": 0.6989700043360189,
          "n_pct_rows": 19,
          "negative": 916,
          "perc": 0.24234904880066171,
          "pos_delayed": null,
          "positive": 293,
          "pred_mu": 5,
          "state": "CA",
          "total": 1209
         },
         {
          "date": "2020-03-16T00:00:00",
          "daysi": 5,
          "death": 6,
          "dupe_neg": false,
          "hospitalized": null,
          "ldeaths": 0.7781512503836436,
          "n_pct_rows": 19,
          "negative": 7981,
          "perc": 0.04028379028379028,
          "pos_delayed": 202,
          "positive": 335,
          "pred_mu": 6,
          "state": "CA",
          "total": 8316
         },
         {
          "date": "2020-03-17T00:00:00",
          "daysi": 6,
          "death": 11,
          "dupe_neg": true,
          "hospitalized": null,
          "ldeaths": 1.0413926851582251,
          "n_pct_rows": 19,
          "negative": 7981,
          "perc": 0.057065217391304345,
          "pos_delayed": 202,
          "positive": 483,
          "pred_mu": 11,
          "state": "CA",
          "total": 8407
         },
         {
          "date": "2020-03-18T00:00:00",
          "daysi": 7,
          "death": 13,
          "dupe_neg": true,
          "hospitalized": null,
          "ldeaths": 1.1139433523068367,
          "n_pct_rows": 19,
          "negative": 7981,
          "perc": 0.07111266294227188,
          "pos_delayed": 252,
          "positive": 611,
          "pred_mu": 13,
          "state": "CA",
          "total": 8592
         },
         {
          "date": "2020-03-19T00:00:00",
          "daysi": 8,
          "death": 18,
          "dupe_neg": false,
          "hospitalized": null,
          "ldeaths": 1.255272505103306,
          "n_pct_rows": 19,
          "negative": 8787,
          "perc": 0.09514983008958913,
          "pos_delayed": 293,
          "positive": 924,
          "pred_mu": 18,
          "state": "CA",
          "total": 9711
         },
         {
          "date": "2020-03-20T00:00:00",
          "daysi": 9,
          "death": 20,
          "dupe_neg": false,
          "hospitalized": null,
          "ldeaths": 1.3010299956639813,
          "n_pct_rows": 19,
          "negative": 10424,
          "perc": 0.092539392356577,
          "pos_delayed": 335,
          "positive": 1063,
          "pred_mu": 20,
          "state": "CA",
          "total": 11487
         },
         {
          "date": "2020-03-21T00:00:00",
          "daysi": 10,
          "death": 24,
          "dupe_neg": false,
          "hospitalized": null,
          "ldeaths": 1.380211241711606,
          "n_pct_rows": 19,
          "negative": 11249,
          "perc": 0.10209131545338442,
          "pos_delayed": 483,
          "positive": 1279,
          "pred_mu": 24,
          "state": "CA",
          "total": 12528
         },
         {
          "date": "2020-03-22T00:00:00",
          "daysi": 11,
          "death": 27,
          "dupe_neg": false,
          "hospitalized": null,
          "ldeaths": 1.4313637641589874,
          "n_pct_rows": 19,
          "negative": 11304,
          "perc": 0.11962616822429907,
          "pos_delayed": 611,
          "positive": 1536,
          "pred_mu": 27,
          "state": "CA",
          "total": 12840
         },
         {
          "date": "2020-03-21T00:00:00",
          "daysi": 10,
          "death": 4,
          "dupe_neg": false,
          "hospitalized": 44,
          "ldeaths": 0.6020599913279624,
          "n_pct_rows": 13,
          "negative": 3317,
          "perc": 0.09864130434782609,
          "pos_delayed": null,
          "positive": 363,
          "pred_mu": 4,
          "state": "CO",
          "total": 3680
         },
         {
          "date": "2020-03-22T00:00:00",
          "daysi": 11,
          "death": 5,
          "dupe_neg": false,
          "hospitalized": 49,
          "ldeaths": 0.6989700043360189,
          "n_pct_rows": 13,
          "negative": 4075,
          "perc": 0.1043956043956044,
          "pos_delayed": null,
          "positive": 475,
          "pred_mu": 5,
          "state": "CO",
          "total": 4550
         },
         {
          "date": "2020-03-15T00:00:00",
          "daysi": 4,
          "death": 4,
          "dupe_neg": false,
          "hospitalized": null,
          "ldeaths": 0.6020599913279624,
          "n_pct_rows": 16,
          "negative": 678,
          "perc": 0.14609571788413098,
          "pos_delayed": null,
          "positive": 116,
          "pred_mu": 4,
          "state": "FL",
          "total": 1248
         },
         {
          "date": "2020-03-16T00:00:00",
          "daysi": 5,
          "death": 4,
          "dupe_neg": false,
          "hospitalized": null,
          "ldeaths": 0.6020599913279624,
          "n_pct_rows": 16,
          "negative": 684,
          "perc": 0.1709090909090909,
          "pos_delayed": null,
          "positive": 141,
          "pred_mu": 4,
          "state": "FL",
          "total": 1339
         },
         {
          "date": "2020-03-17T00:00:00",
          "daysi": 6,
          "death": 6,
          "dupe_neg": false,
          "hospitalized": null,
          "ldeaths": 0.7781512503836436,
          "n_pct_rows": 16,
          "negative": 940,
          "perc": 0.16518650088809947,
          "pos_delayed": null,
          "positive": 186,
          "pred_mu": 6,
          "state": "FL",
          "total": 1998
         },
         {
          "date": "2020-03-18T00:00:00",
          "daysi": 7,
          "death": 7,
          "dupe_neg": false,
          "hospitalized": null,
          "ldeaths": 0.8450980400142568,
          "n_pct_rows": 16,
          "negative": 1225,
          "perc": 0.20402858999350226,
          "pos_delayed": null,
          "positive": 314,
          "pred_mu": 7,
          "state": "FL",
          "total": 2493
         },
         {
          "date": "2020-03-19T00:00:00",
          "daysi": 8,
          "death": 8,
          "dupe_neg": false,
          "hospitalized": null,
          "ldeaths": 0.9030899869919435,
          "n_pct_rows": 16,
          "negative": 1533,
          "perc": 0.20280811232449297,
          "pos_delayed": 116,
          "positive": 390,
          "pred_mu": 8,
          "state": "FL",
          "total": 2942
         },
         {
          "date": "2020-03-20T00:00:00",
          "daysi": 9,
          "death": 10,
          "dupe_neg": false,
          "hospitalized": null,
          "ldeaths": 1,
          "n_pct_rows": 16,
          "negative": 1870,
          "perc": 0.2175732217573222,
          "pos_delayed": 141,
          "positive": 520,
          "pred_mu": 10,
          "state": "FL",
          "total": 3416
         },
         {
          "date": "2020-03-21T00:00:00",
          "daysi": 10,
          "death": 12,
          "dupe_neg": false,
          "hospitalized": 158,
          "ldeaths": 1.0791812460476249,
          "n_pct_rows": 16,
          "negative": 6579,
          "perc": 0.09092165261848832,
          "pos_delayed": 186,
          "positive": 658,
          "pred_mu": 12,
          "state": "FL",
          "total": 8239
         },
         {
          "date": "2020-03-22T00:00:00",
          "daysi": 11,
          "death": 13,
          "dupe_neg": false,
          "hospitalized": 185,
          "ldeaths": 1.1139433523068367,
          "n_pct_rows": 16,
          "negative": 7990,
          "perc": 0.09410430839002268,
          "pos_delayed": 314,
          "positive": 830,
          "pred_mu": 13,
          "state": "FL",
          "total": 9783
         },
         {
          "date": "2020-03-19T00:00:00",
          "daysi": 8,
          "death": 10,
          "dupe_neg": false,
          "hospitalized": null,
          "ldeaths": 1,
          "n_pct_rows": 5,
          "negative": 1544,
          "perc": 0.1567449481157837,
          "pos_delayed": null,
          "positive": 287,
          "pred_mu": 10,
          "state": "GA",
          "total": 1831
         },
         {
          "date": "2020-03-20T00:00:00",
          "daysi": 9,
          "death": 13,
          "dupe_neg": false,
          "hospitalized": null,
          "ldeaths": 1.1139433523068367,
          "n_pct_rows": 5,
          "negative": 1966,
          "perc": 0.1760268231349539,
          "pos_delayed": null,
          "positive": 420,
          "pred_mu": 13,
          "state": "GA",
          "total": 2386
         },
         {
          "date": "2020-03-21T00:00:00",
          "daysi": 10,
          "death": 14,
          "dupe_neg": false,
          "hospitalized": null,
          "ldeaths": 1.146128035678238,
          "n_pct_rows": 5,
          "negative": 2557,
          "perc": 0.16546997389033943,
          "pos_delayed": null,
          "positive": 507,
          "pred_mu": 14,
          "state": "GA",
          "total": 3064
         },
         {
          "date": "2020-03-22T00:00:00",
          "daysi": 11,
          "death": 23,
          "dupe_neg": false,
          "hospitalized": null,
          "ldeaths": 1.3617278360175928,
          "n_pct_rows": 5,
          "negative": 3420,
          "perc": 0.14925373134328357,
          "pos_delayed": null,
          "positive": 600,
          "pred_mu": 23,
          "state": "GA",
          "total": 4020
         },
         {
          "date": "2020-03-19T00:00:00",
          "daysi": 8,
          "death": 4,
          "dupe_neg": false,
          "hospitalized": null,
          "ldeaths": 0.6020599913279624,
          "n_pct_rows": 13,
          "negative": 2725,
          "perc": 0.13519517613456045,
          "pos_delayed": null,
          "positive": 426,
          "pred_mu": 4,
          "state": "IL",
          "total": 3151
         },
         {
          "date": "2020-03-20T00:00:00",
          "daysi": 9,
          "death": 5,
          "dupe_neg": false,
          "hospitalized": null,
          "ldeaths": 0.6989700043360189,
          "n_pct_rows": 13,
          "negative": 3696,
          "perc": 0.13765748950069995,
          "pos_delayed": null,
          "positive": 590,
          "pred_mu": 5,
          "state": "IL",
          "total": 4286
         },
         {
          "date": "2020-03-21T00:00:00",
          "daysi": 10,
          "death": 6,
          "dupe_neg": false,
          "hospitalized": null,
          "ldeaths": 0.7781512503836436,
          "n_pct_rows": 13,
          "negative": 5488,
          "perc": 0.12149831919321274,
          "pos_delayed": null,
          "positive": 759,
          "pred_mu": 6,
          "state": "IL",
          "total": 6247
         },
         {
          "date": "2020-03-22T00:00:00",
          "daysi": 11,
          "death": 9,
          "dupe_neg": false,
          "hospitalized": null,
          "ldeaths": 0.9542425094393249,
          "n_pct_rows": 13,
          "negative": 7271,
          "perc": 0.12702605354784488,
          "pos_delayed": null,
          "positive": 1058,
          "pred_mu": 9,
          "state": "IL",
          "total": 8329
         },
         {
          "date": "2020-03-21T00:00:00",
          "daysi": 10,
          "death": 4,
          "dupe_neg": false,
          "hospitalized": 1,
          "ldeaths": 0.6020599913279624,
          "n_pct_rows": 11,
          "negative": 707,
          "perc": 0.15126050420168066,
          "pos_delayed": null,
          "positive": 126,
          "pred_mu": 4,
          "state": "IN",
          "total": 833
         },
         {
          "date": "2020-03-22T00:00:00",
          "daysi": 11,
          "death": 6,
          "dupe_neg": false,
          "hospitalized": 1,
          "ldeaths": 0.7781512503836436,
          "n_pct_rows": 11,
          "negative": 1293,
          "perc": 0.13453815261044177,
          "pos_delayed": null,
          "positive": 201,
          "pred_mu": 6,
          "state": "IN",
          "total": 1494
         },
         {
          "date": "2020-03-17T00:00:00",
          "daysi": 6,
          "death": 4,
          "dupe_neg": false,
          "hospitalized": null,
          "ldeaths": 0.6020599913279624,
          "n_pct_rows": 11,
          "negative": 286,
          "perc": 0.3741794310722101,
          "pos_delayed": null,
          "positive": 171,
          "pred_mu": 4,
          "state": "LA",
          "total": 457
         },
         {
          "date": "2020-03-18T00:00:00",
          "daysi": 7,
          "death": 6,
          "dupe_neg": false,
          "hospitalized": null,
          "ldeaths": 0.7781512503836436,
          "n_pct_rows": 11,
          "negative": 335,
          "perc": 0.41739130434782606,
          "pos_delayed": null,
          "positive": 240,
          "pred_mu": 6,
          "state": "LA",
          "total": 575
         },
         {
          "date": "2020-03-19T00:00:00",
          "daysi": 8,
          "death": 8,
          "dupe_neg": false,
          "hospitalized": null,
          "ldeaths": 0.9030899869919435,
          "n_pct_rows": 11,
          "negative": 458,
          "perc": 0.43105590062111804,
          "pos_delayed": null,
          "positive": 347,
          "pred_mu": 8,
          "state": "LA",
          "total": 805
         },
         {
          "date": "2020-03-20T00:00:00",
          "daysi": 9,
          "death": 12,
          "dupe_neg": false,
          "hospitalized": null,
          "ldeaths": 1.0791812460476249,
          "n_pct_rows": 11,
          "negative": 568,
          "perc": 0.4574976122254059,
          "pos_delayed": null,
          "positive": 479,
          "pred_mu": 12,
          "state": "LA",
          "total": 1047
         },
         {
          "date": "2020-03-21T00:00:00",
          "daysi": 10,
          "death": 16,
          "dupe_neg": false,
          "hospitalized": null,
          "ldeaths": 1.2041199826559248,
          "n_pct_rows": 11,
          "negative": 2180,
          "perc": 0.2115732368896926,
          "pos_delayed": 171,
          "positive": 585,
          "pred_mu": 16,
          "state": "LA",
          "total": 2765
         },
         {
          "date": "2020-03-22T00:00:00",
          "daysi": 11,
          "death": 20,
          "dupe_neg": false,
          "hospitalized": null,
          "ldeaths": 1.3010299956639813,
          "n_pct_rows": 11,
          "negative": 2661,
          "perc": 0.23927958833619212,
          "pos_delayed": 240,
          "positive": 837,
          "pred_mu": 20,
          "state": "LA",
          "total": 3498
         },
         {
          "date": "2020-03-18T00:00:00",
          "daysi": 7,
          "death": 5,
          "dupe_neg": false,
          "hospitalized": null,
          "ldeaths": 0.6989700043360189,
          "n_pct_rows": 14,
          "negative": 190,
          "perc": 0.6920583468395461,
          "pos_delayed": null,
          "positive": 427,
          "pred_mu": 5,
          "state": "NJ",
          "total": 638
         },
         {
          "date": "2020-03-19T00:00:00",
          "daysi": 8,
          "death": 9,
          "dupe_neg": false,
          "hospitalized": null,
          "ldeaths": 0.9542425094393249,
          "n_pct_rows": 14,
          "negative": 210,
          "perc": 0.7794117647058824,
          "pos_delayed": null,
          "positive": 742,
          "pred_mu": 9,
          "state": "NJ",
          "total": 1026
         },
         {
          "date": "2020-03-20T00:00:00",
          "daysi": 9,
          "death": 11,
          "dupe_neg": false,
          "hospitalized": null,
          "ldeaths": 1.0413926851582251,
          "n_pct_rows": 14,
          "negative": 264,
          "perc": 0.7712305025996534,
          "pos_delayed": null,
          "positive": 890,
          "pred_mu": 11,
          "state": "NJ",
          "total": 1240
         },
         {
          "date": "2020-03-21T00:00:00",
          "daysi": 10,
          "death": 16,
          "dupe_neg": false,
          "hospitalized": null,
          "ldeaths": 1.2041199826559248,
          "n_pct_rows": 14,
          "negative": 294,
          "perc": 0.8186304750154226,
          "pos_delayed": null,
          "positive": 1327,
          "pred_mu": 16,
          "state": "NJ",
          "total": 1661
         },
         {
          "date": "2020-03-22T00:00:00",
          "daysi": 11,
          "death": 20,
          "dupe_neg": false,
          "hospitalized": null,
          "ldeaths": 1.3010299956639813,
          "n_pct_rows": 14,
          "negative": 327,
          "perc": 0.8540829986613119,
          "pos_delayed": 427,
          "positive": 1914,
          "pred_mu": 20,
          "state": "NJ",
          "total": 2290
         },
         {
          "date": "2020-03-16T00:00:00",
          "daysi": 5,
          "death": 7,
          "dupe_neg": true,
          "hospitalized": null,
          "ldeaths": 0.8450980400142568,
          "n_pct_rows": 16,
          "negative": 4543,
          "perc": 0.17294738758419806,
          "pos_delayed": null,
          "positive": 950,
          "pred_mu": 7,
          "state": "NY",
          "total": 5493
         },
         {
          "date": "2020-03-17T00:00:00",
          "daysi": 6,
          "death": 7,
          "dupe_neg": false,
          "hospitalized": null,
          "ldeaths": 0.8450980400142568,
          "n_pct_rows": 16,
          "negative": 5506,
          "perc": 0.23591451568137664,
          "pos_delayed": null,
          "positive": 1700,
          "pred_mu": 7,
          "state": "NY",
          "total": 7206
         },
         {
          "date": "2020-03-18T00:00:00",
          "daysi": 7,
          "death": 12,
          "dupe_neg": false,
          "hospitalized": null,
          "ldeaths": 1.0791812460476249,
          "n_pct_rows": 16,
          "negative": 12215,
          "perc": 0.1631842159347811,
          "pos_delayed": null,
          "positive": 2382,
          "pred_mu": 12,
          "state": "NY",
          "total": 14597
         },
         {
          "date": "2020-03-19T00:00:00",
          "daysi": 8,
          "death": 12,
          "dupe_neg": false,
          "hospitalized": null,
          "ldeaths": 1.0791812460476249,
          "n_pct_rows": 16,
          "negative": 18132,
          "perc": 0.18632202477113624,
          "pos_delayed": null,
          "positive": 4152,
          "pred_mu": 12,
          "state": "NY",
          "total": 22284
         },
         {
          "date": "2020-03-20T00:00:00",
          "daysi": 9,
          "death": 35,
          "dupe_neg": false,
          "hospitalized": null,
          "ldeaths": 1.5440680443502757,
          "n_pct_rows": 16,
          "negative": 25325,
          "perc": 0.21901501834890677,
          "pos_delayed": 950,
          "positive": 7102,
          "pred_mu": 35,
          "state": "NY",
          "total": 32427
         },
         {
          "date": "2020-03-21T00:00:00",
          "daysi": 10,
          "death": 44,
          "dupe_neg": false,
          "hospitalized": 1603,
          "ldeaths": 1.6434526764861874,
          "n_pct_rows": 16,
          "negative": 35081,
          "perc": 0.2279199771111649,
          "pos_delayed": 1700,
          "positive": 10356,
          "pred_mu": 44,
          "state": "NY",
          "total": 45437
         },
         {
          "date": "2020-03-22T00:00:00",
          "daysi": 11,
          "death": 114,
          "dupe_neg": false,
          "hospitalized": 1974,
          "ldeaths": 2.0569048513364727,
          "n_pct_rows": 16,
          "negative": 46233,
          "perc": 0.24703180729955537,
          "pos_delayed": 2382,
          "positive": 15168,
          "pred_mu": 114,
          "state": "NY",
          "total": 61401
         },
         {
          "date": "2020-03-22T00:00:00",
          "daysi": 11,
          "death": 4,
          "dupe_neg": false,
          "hospitalized": 43,
          "ldeaths": 0.6020599913279624,
          "n_pct_rows": 15,
          "negative": 2864,
          "perc": 0.053223140495867766,
          "pos_delayed": null,
          "positive": 161,
          "pred_mu": 4,
          "state": "OR",
          "total": 3025
         },
         {
          "date": "2020-03-20T00:00:00",
          "daysi": 9,
          "death": 5,
          "dupe_neg": false,
          "hospitalized": null,
          "ldeaths": 0.6989700043360189,
          "n_pct_rows": 6,
          "negative": 5083,
          "perc": 0.03676331248815615,
          "pos_delayed": null,
          "positive": 194,
          "pred_mu": 5,
          "state": "TX",
          "total": 5277
         },
         {
          "date": "2020-03-21T00:00:00",
          "daysi": 10,
          "death": 5,
          "dupe_neg": false,
          "hospitalized": null,
          "ldeaths": 0.6989700043360189,
          "n_pct_rows": 6,
          "negative": 6218,
          "perc": 0.04661146887457835,
          "pos_delayed": null,
          "positive": 304,
          "pred_mu": 5,
          "state": "TX",
          "total": 6522
         },
         {
          "date": "2020-03-22T00:00:00",
          "daysi": 11,
          "death": 5,
          "dupe_neg": false,
          "hospitalized": null,
          "ldeaths": 0.6989700043360189,
          "n_pct_rows": 6,
          "negative": 8422,
          "perc": 0.038145271813613525,
          "pos_delayed": null,
          "positive": 334,
          "pred_mu": 5,
          "state": "TX",
          "total": 8756
         },
         {
          "date": "2020-03-11T00:00:00",
          "daysi": 0,
          "death": 24,
          "dupe_neg": false,
          "hospitalized": null,
          "ldeaths": 1.380211241711606,
          "n_pct_rows": 17,
          "negative": 2175,
          "perc": 0.10933660933660934,
          "pos_delayed": null,
          "positive": 267,
          "pred_mu": 24,
          "state": "WA",
          "total": 2466
         },
         {
          "date": "2020-03-12T00:00:00",
          "daysi": 1,
          "death": 29,
          "dupe_neg": false,
          "hospitalized": null,
          "ldeaths": 1.462397997898956,
          "n_pct_rows": 17,
          "negative": 3037,
          "perc": 0.0998814463544754,
          "pos_delayed": null,
          "positive": 337,
          "pred_mu": 29,
          "state": "WA",
          "total": 3403
         },
         {
          "date": "2020-03-13T00:00:00",
          "daysi": 2,
          "death": 31,
          "dupe_neg": false,
          "hospitalized": null,
          "ldeaths": 1.4913616938342726,
          "n_pct_rows": 17,
          "negative": 4350,
          "perc": 0.0950696900353651,
          "pos_delayed": null,
          "positive": 457,
          "pred_mu": 31,
          "state": "WA",
          "total": 4807
         },
         {
          "date": "2020-03-14T00:00:00",
          "daysi": 3,
          "death": 37,
          "dupe_neg": false,
          "hospitalized": null,
          "ldeaths": 1.568201724066995,
          "n_pct_rows": 17,
          "negative": 6001,
          "perc": 0.08646673770741362,
          "pos_delayed": null,
          "positive": 568,
          "pred_mu": 37,
          "state": "WA",
          "total": 6569
         },
         {
          "date": "2020-03-15T00:00:00",
          "daysi": 4,
          "death": 40,
          "dupe_neg": false,
          "hospitalized": null,
          "ldeaths": 1.6020599913279623,
          "n_pct_rows": 17,
          "negative": 7122,
          "perc": 0.08268933539412673,
          "pos_delayed": 267,
          "positive": 642,
          "pred_mu": 40,
          "state": "WA",
          "total": 7764
         },
         {
          "date": "2020-03-16T00:00:00",
          "daysi": 5,
          "death": 42,
          "dupe_neg": false,
          "hospitalized": null,
          "ldeaths": 1.6232492903979006,
          "n_pct_rows": 17,
          "negative": 9451,
          "perc": 0.07524461839530333,
          "pos_delayed": 337,
          "positive": 769,
          "pred_mu": 42,
          "state": "WA",
          "total": 10220
         },
         {
          "date": "2020-03-17T00:00:00",
          "daysi": 6,
          "death": 48,
          "dupe_neg": false,
          "hospitalized": null,
          "ldeaths": 1.6812412373755872,
          "n_pct_rows": 17,
          "negative": 11582,
          "perc": 0.07240108921992632,
          "pos_delayed": 457,
          "positive": 904,
          "pred_mu": 48,
          "state": "WA",
          "total": 12486
         },
         {
          "date": "2020-03-18T00:00:00",
          "daysi": 7,
          "death": 52,
          "dupe_neg": false,
          "hospitalized": null,
          "ldeaths": 1.7160033436347992,
          "n_pct_rows": 17,
          "negative": 13117,
          "perc": 0.07162573430532947,
          "pos_delayed": 568,
          "positive": 1012,
          "pred_mu": 52,
          "state": "WA",
          "total": 14129
         },
         {
          "date": "2020-03-19T00:00:00",
          "daysi": 8,
          "death": 66,
          "dupe_neg": false,
          "hospitalized": null,
          "ldeaths": 1.8195439355418688,
          "n_pct_rows": 17,
          "negative": 15918,
          "perc": 0.06939491376790412,
          "pos_delayed": 642,
          "positive": 1187,
          "pred_mu": 66,
          "state": "WA",
          "total": 17105
         },
         {
          "date": "2020-03-20T00:00:00",
          "daysi": 9,
          "death": 74,
          "dupe_neg": false,
          "hospitalized": null,
          "ldeaths": 1.8692317197309762,
          "n_pct_rows": 17,
          "negative": 19336,
          "perc": 0.0664349169563538,
          "pos_delayed": 769,
          "positive": 1376,
          "pred_mu": 74,
          "state": "WA",
          "total": 20712
         },
         {
          "date": "2020-03-21T00:00:00",
          "daysi": 10,
          "death": 83,
          "dupe_neg": false,
          "hospitalized": null,
          "ldeaths": 1.919078092376074,
          "n_pct_rows": 17,
          "negative": 21719,
          "perc": 0.06556812803854924,
          "pos_delayed": 904,
          "positive": 1524,
          "pred_mu": 83,
          "state": "WA",
          "total": 23243
         },
         {
          "date": "2020-03-22T00:00:00",
          "daysi": 11,
          "death": 94,
          "dupe_neg": false,
          "hospitalized": null,
          "ldeaths": 1.9731278535996986,
          "n_pct_rows": 17,
          "negative": 25328,
          "perc": 0.06611113159544264,
          "pos_delayed": 1012,
          "positive": 1793,
          "pred_mu": 94,
          "state": "WA",
          "total": 27121
         }
        ],
        "data-f3d8df19cd9e49cc40dd75536fa49537": [
         {
          "date": "2020-03-22T00:00:00",
          "daysi": 11,
          "pred_mu": 29.51239785618942,
          "pred_q10": 23.620654516336703,
          "pred_q90": 36.95508840007529,
          "row": 0,
          "state": "CA"
         },
         {
          "date": "2020-03-22T00:00:00",
          "daysi": 11,
          "pred_mu": 4.9569905397939955,
          "pred_q10": 3.8746773391455274,
          "pred_q90": 6.3340775591044025,
          "row": 1,
          "state": "CO"
         },
         {
          "date": "2020-03-22T00:00:00",
          "daysi": 11,
          "pred_mu": 14.140112994353753,
          "pred_q10": 11.249066208899368,
          "pred_q90": 17.77727187000619,
          "row": 2,
          "state": "FL"
         },
         {
          "date": "2020-03-22T00:00:00",
          "daysi": 11,
          "pred_mu": 20.97658140421427,
          "pred_q10": 16.520637449399135,
          "pred_q90": 26.513403065840368,
          "row": 3,
          "state": "GA"
         },
         {
          "date": "2020-03-22T00:00:00",
          "daysi": 11,
          "pred_mu": 8.260926309202945,
          "pred_q10": 6.495999159271381,
          "pred_q90": 10.4849526505693,
          "row": 4,
          "state": "IL"
         },
         {
          "date": "2020-03-22T00:00:00",
          "daysi": 11,
          "pred_mu": 5.488293510309843,
          "pred_q10": 4.28612046082021,
          "pred_q90": 7.015180137329589,
          "row": 5,
          "state": "IN"
         },
         {
          "date": "2020-03-22T00:00:00",
          "daysi": 11,
          "pred_mu": 20.80160197250198,
          "pred_q10": 16.226516591893866,
          "pred_q90": 26.266119355583495,
          "row": 6,
          "state": "LA"
         },
         {
          "date": "2020-03-22T00:00:00",
          "daysi": 11,
          "pred_mu": 20.502881736329172,
          "pred_q10": 16.111580668105752,
          "pred_q90": 26.12319658247803,
          "row": 7,
          "state": "NJ"
         },
         {
          "date": "2020-03-22T00:00:00",
          "daysi": 11,
          "pred_mu": 77.17975225865504,
          "pred_q10": 60.928605209043255,
          "pred_q90": 98.1954555166468,
          "row": 8,
          "state": "NY"
         },
         {
          "date": "2020-03-22T00:00:00",
          "daysi": 11,
          "pred_mu": 4.035464067770169,
          "pred_q10": 3.0451220935409333,
          "pred_q90": 5.324110916033731,
          "row": 9,
          "state": "OR"
         },
         {
          "date": "2020-03-22T00:00:00",
          "daysi": 11,
          "pred_mu": 5.639950852274253,
          "pred_q10": 4.419165276170914,
          "pred_q90": 7.184275995673229,
          "row": 10,
          "state": "TX"
         },
         {
          "date": "2020-03-22T00:00:00",
          "daysi": 11,
          "pred_mu": 92.84189627581398,
          "pred_q10": 74.36691414701099,
          "pred_q90": 115.73931094437364,
          "row": 11,
          "state": "WA"
         },
         {
          "date": "2020-03-23T00:00:00",
          "daysi": 12,
          "pred_mu": 36.85901565848914,
          "pred_q10": 29.17487457696456,
          "pred_q90": 46.43076841559075,
          "row": 12,
          "state": "CA"
         },
         {
          "date": "2020-03-23T00:00:00",
          "daysi": 12,
          "pred_mu": 6.008397409589669,
          "pred_q10": 4.474606888785882,
          "pred_q90": 8.046614038602142,
          "row": 13,
          "state": "CO"
         },
         {
          "date": "2020-03-23T00:00:00",
          "daysi": 12,
          "pred_mu": 17.061761245051066,
          "pred_q10": 13.35474765695145,
          "pred_q90": 21.643753101003995,
          "row": 14,
          "state": "FL"
         },
         {
          "date": "2020-03-23T00:00:00",
          "daysi": 12,
          "pred_mu": 27.05159055002331,
          "pred_q10": 20.375278734878762,
          "pred_q90": 36.017827266807636,
          "row": 15,
          "state": "GA"
         },
         {
          "date": "2020-03-23T00:00:00",
          "daysi": 12,
          "pred_mu": 10.500431689676168,
          "pred_q10": 7.917757342084216,
          "pred_q90": 13.841259565372397,
          "row": 16,
          "state": "IL"
         },
         {
          "date": "2020-03-23T00:00:00",
          "daysi": 12,
          "pred_mu": 6.875436857860855,
          "pred_q10": 5.107338544453621,
          "pred_q90": 9.258502285048767,
          "row": 17,
          "state": "IN"
         },
         {
          "date": "2020-03-23T00:00:00",
          "daysi": 12,
          "pred_mu": 28.486832914416834,
          "pred_q10": 21.893992045000566,
          "pred_q90": 36.9074982668574,
          "row": 18,
          "state": "LA"
         },
         {
          "date": "2020-03-23T00:00:00",
          "daysi": 12,
          "pred_mu": 28.09274084648202,
          "pred_q10": 21.547590948024627,
          "pred_q90": 36.7221591742337,
          "row": 19,
          "state": "NJ"
         },
         {
          "date": "2020-03-23T00:00:00",
          "daysi": 12,
          "pred_mu": 120.75417022852588,
          "pred_q10": 93.57160105269952,
          "pred_q90": 156.4630119567107,
          "row": 20,
          "state": "NY"
         },
         {
          "date": "2020-03-23T00:00:00",
          "daysi": 12,
          "pred_mu": 4.814685724351852,
          "pred_q10": 3.547271145779004,
          "pred_q90": 6.550228616453826,
          "row": 21,
          "state": "OR"
         },
         {
          "date": "2020-03-23T00:00:00",
          "daysi": 12,
          "pred_mu": 6.338045836023982,
          "pred_q10": 4.715091915344261,
          "pred_q90": 8.495726807254641,
          "row": 22,
          "state": "TX"
         },
         {
          "date": "2020-03-23T00:00:00",
          "daysi": 12,
          "pred_mu": 105.41485284990257,
          "pred_q10": 83.94380509048676,
          "pred_q90": 132.02548344642295,
          "row": 23,
          "state": "WA"
         },
         {
          "date": "2020-03-24T00:00:00",
          "daysi": 13,
          "pred_mu": 45.86886843918563,
          "pred_q10": 36.123257302706094,
          "pred_q90": 58.51639870819694,
          "row": 24,
          "state": "CA"
         },
         {
          "date": "2020-03-24T00:00:00",
          "daysi": 13,
          "pred_mu": 7.286276013023736,
          "pred_q10": 5.059885712041849,
          "pred_q90": 10.432784954693535,
          "row": 25,
          "state": "CO"
         },
         {
          "date": "2020-03-24T00:00:00",
          "daysi": 13,
          "pred_mu": 20.54862965947591,
          "pred_q10": 15.88880541603866,
          "pred_q90": 26.736290321350804,
          "row": 26,
          "state": "FL"
         },
         {
          "date": "2020-03-24T00:00:00",
          "daysi": 13,
          "pred_mu": 34.6992787821154,
          "pred_q10": 24.991262722419258,
          "pred_q90": 47.67337555007686,
          "row": 27,
          "state": "GA"
         },
         {
          "date": "2020-03-24T00:00:00",
          "daysi": 13,
          "pred_mu": 13.418273341807444,
          "pred_q10": 9.6798354389494,
          "pred_q90": 18.494246390120793,
          "row": 28,
          "state": "IL"
         },
         {
          "date": "2020-03-24T00:00:00",
          "daysi": 13,
          "pred_mu": 8.587640198626866,
          "pred_q10": 6.000706352495192,
          "pred_q90": 12.354456364855087,
          "row": 29,
          "state": "IN"
         },
         {
          "date": "2020-03-24T00:00:00",
          "daysi": 13,
          "pred_mu": 39.076855337067784,
          "pred_q10": 29.056320430308695,
          "pred_q90": 52.01382580814151,
          "row": 30,
          "state": "LA"
         },
         {
          "date": "2020-03-24T00:00:00",
          "daysi": 13,
          "pred_mu": 38.3958092411563,
          "pred_q10": 28.012292480940758,
          "pred_q90": 51.884749073518506,
          "row": 31,
          "state": "NJ"
         },
         {
          "date": "2020-03-24T00:00:00",
          "daysi": 13,
          "pred_mu": 189.70631382566376,
          "pred_q10": 144.16207966424471,
          "pred_q90": 250.79750688908737,
          "row": 32,
          "state": "NY"
         },
         {
          "date": "2020-03-24T00:00:00",
          "daysi": 13,
          "pred_mu": 5.792318249564503,
          "pred_q10": 4.0354344230670085,
          "pred_q90": 8.383963066594555,
          "row": 33,
          "state": "OR"
         },
         {
          "date": "2020-03-24T00:00:00",
          "daysi": 13,
          "pred_mu": 7.083175220924133,
          "pred_q10": 4.878230769045803,
          "pred_q90": 10.257742448952401,
          "row": 34,
          "state": "TX"
         },
         {
          "date": "2020-03-24T00:00:00",
          "daysi": 13,
          "pred_mu": 119.88153060170417,
          "pred_q10": 94.64766743329189,
          "pred_q90": 152.8687744210711,
          "row": 35,
          "state": "WA"
         },
         {
          "date": "2020-03-25T00:00:00",
          "daysi": 14,
          "pred_mu": 57.56892749488587,
          "pred_q10": 44.66429015969273,
          "pred_q90": 74.08630832126414,
          "row": 36,
          "state": "CA"
         },
         {
          "date": "2020-03-25T00:00:00",
          "daysi": 14,
          "pred_mu": 8.852900256958359,
          "pred_q10": 5.638204920391936,
          "pred_q90": 13.790118058587835,
          "row": 37,
          "state": "CO"
         },
         {
          "date": "2020-03-25T00:00:00",
          "daysi": 14,
          "pred_mu": 24.77385495308644,
          "pred_q10": 18.821911438519454,
          "pred_q90": 33.07303437937348,
          "row": 38,
          "state": "FL"
         },
         {
          "date": "2020-03-25T00:00:00",
          "daysi": 14,
          "pred_mu": 44.77455754658002,
          "pred_q10": 30.49800256180657,
          "pred_q90": 65.36639888677087,
          "row": 39,
          "state": "GA"
         },
         {
          "date": "2020-03-25T00:00:00",
          "daysi": 14,
          "pred_mu": 17.132136168666392,
          "pred_q10": 11.673709698975202,
          "pred_q90": 25.14600121592666,
          "row": 40,
          "state": "IL"
         },
         {
          "date": "2020-03-25T00:00:00",
          "daysi": 14,
          "pred_mu": 10.679570060144568,
          "pred_q10": 6.832283325995869,
          "pred_q90": 16.73830565894919,
          "row": 41,
          "state": "IN"
         },
         {
          "date": "2020-03-25T00:00:00",
          "daysi": 14,
          "pred_mu": 53.58914645148425,
          "pred_q10": 39.179298089593104,
          "pred_q90": 73.83410420925958,
          "row": 42,
          "state": "LA"
         },
         {
          "date": "2020-03-25T00:00:00",
          "daysi": 14,
          "pred_mu": 52.26637816317623,
          "pred_q10": 37.0543611207181,
          "pred_q90": 74.17097233262999,
          "row": 43,
          "state": "NJ"
         },
         {
          "date": "2020-03-25T00:00:00",
          "daysi": 14,
          "pred_mu": 298.4835359482419,
          "pred_q10": 219.6147506027396,
          "pred_q90": 401.57000930981167,
          "row": 44,
          "state": "NY"
         },
         {
          "date": "2020-03-25T00:00:00",
          "daysi": 14,
          "pred_mu": 6.928428817816199,
          "pred_q10": 4.374845113682405,
          "pred_q90": 11.194954456005604,
          "row": 45,
          "state": "OR"
         },
         {
          "date": "2020-03-25T00:00:00",
          "daysi": 14,
          "pred_mu": 7.94514990594688,
          "pred_q10": 5.073029059656795,
          "pred_q90": 12.319660151682736,
          "row": 46,
          "state": "TX"
         },
         {
          "date": "2020-03-25T00:00:00",
          "daysi": 14,
          "pred_mu": 134.93705570447247,
          "pred_q10": 105.97836071276505,
          "pred_q90": 172.27506610084842,
          "row": 47,
          "state": "WA"
         },
         {
          "date": "2020-03-26T00:00:00",
          "daysi": 15,
          "pred_mu": 71.30422533345362,
          "pred_q10": 54.429878701008185,
          "pred_q90": 92.61056343433825,
          "row": 48,
          "state": "CA"
         },
         {
          "date": "2020-03-26T00:00:00",
          "daysi": 15,
          "pred_mu": 10.73018699679182,
          "pred_q10": 6.251037862904092,
          "pred_q90": 18.432403239987096,
          "row": 49,
          "state": "CO"
         },
         {
          "date": "2020-03-26T00:00:00",
          "daysi": 15,
          "pred_mu": 29.874747139161496,
          "pred_q10": 22.079343916719957,
          "pred_q90": 40.592507395591774,
          "row": 50,
          "state": "FL"
         },
         {
          "date": "2020-03-26T00:00:00",
          "daysi": 15,
          "pred_mu": 57.807602663074896,
          "pred_q10": 37.197284241388964,
          "pred_q90": 89.54827935247081,
          "row": 51,
          "state": "GA"
         },
         {
          "date": "2020-03-26T00:00:00",
          "daysi": 15,
          "pred_mu": 21.736660090656034,
          "pred_q10": 13.941152189546688,
          "pred_q90": 33.869225039981586,
          "row": 52,
          "state": "IL"
         },
         {
          "date": "2020-03-26T00:00:00",
          "daysi": 15,
          "pred_mu": 13.359514315885429,
          "pred_q10": 7.7421241708501185,
          "pred_q90": 23.16211646570133,
          "row": 53,
          "state": "IN"
         },
         {
          "date": "2020-03-26T00:00:00",
          "daysi": 15,
          "pred_mu": 72.75517460996531,
          "pred_q10": 50.8467922038521,
          "pred_q90": 104.39205232588033,
          "row": 54,
          "state": "LA"
         },
         {
          "date": "2020-03-26T00:00:00",
          "daysi": 15,
          "pred_mu": 71.41162990115454,
          "pred_q10": 48.075873471200204,
          "pred_q90": 105.15668681367623,
          "row": 55,
          "state": "NJ"
         },
         {
          "date": "2020-03-26T00:00:00",
          "daysi": 15,
          "pred_mu": 468.2899691354766,
          "pred_q10": 334.72860644327704,
          "pred_q90": 649.8452995899127,
          "row": 56,
          "state": "NY"
         },
         {
          "date": "2020-03-26T00:00:00",
          "daysi": 15,
          "pred_mu": 8.324808741199407,
          "pred_q10": 4.790243849645177,
          "pred_q90": 14.455684818662268,
          "row": 57,
          "state": "OR"
         },
         {
          "date": "2020-03-26T00:00:00",
          "daysi": 15,
          "pred_mu": 8.962815848813415,
          "pred_q10": 5.16313187699446,
          "pred_q90": 15.041862535412168,
          "row": 58,
          "state": "TX"
         },
         {
          "date": "2020-03-26T00:00:00",
          "daysi": 15,
          "pred_mu": 152.0969051520059,
          "pred_q10": 117.88024851442202,
          "pred_q90": 197.10607086763963,
          "row": 59,
          "state": "WA"
         },
         {
          "date": "2020-03-27T00:00:00",
          "daysi": 16,
          "pred_mu": 89.02927991759383,
          "pred_q10": 67.7278977756551,
          "pred_q90": 116.50737918168193,
          "row": 60,
          "state": "CA"
         },
         {
          "date": "2020-03-27T00:00:00",
          "daysi": 16,
          "pred_mu": 13.031367879923138,
          "pred_q10": 6.828361409428849,
          "pred_q90": 24.799304085000728,
          "row": 61,
          "state": "CO"
         },
         {
          "date": "2020-03-27T00:00:00",
          "daysi": 16,
          "pred_mu": 35.9076175613111,
          "pred_q10": 26.09262255017667,
          "pred_q90": 49.65816449373627,
          "row": 62,
          "state": "FL"
         },
         {
          "date": "2020-03-27T00:00:00",
          "daysi": 16,
          "pred_mu": 74.57841342827541,
          "pred_q10": 45.04598856052097,
          "pred_q90": 123.56772521961142,
          "row": 63,
          "state": "GA"
         },
         {
          "date": "2020-03-27T00:00:00",
          "daysi": 16,
          "pred_mu": 27.685011069996857,
          "pred_q10": 16.719403285889165,
          "pred_q90": 46.13522838419089,
          "row": 64,
          "state": "IL"
         },
         {
          "date": "2020-03-27T00:00:00",
          "daysi": 16,
          "pred_mu": 16.779791134965244,
          "pred_q10": 8.764226845215775,
          "pred_q90": 31.96193627476202,
          "row": 65,
          "state": "IN"
         },
         {
          "date": "2020-03-27T00:00:00",
          "daysi": 16,
          "pred_mu": 99.9860586681398,
          "pred_q10": 67.21938697455566,
          "pred_q90": 147.81136349242436,
          "row": 66,
          "state": "LA"
         },
         {
          "date": "2020-03-27T00:00:00",
          "daysi": 16,
          "pred_mu": 98.19413492725843,
          "pred_q10": 63.182933282373796,
          "pred_q90": 153.20285425291672,
          "row": 67,
          "state": "NJ"
         },
         {
          "date": "2020-03-27T00:00:00",
          "daysi": 16,
          "pred_mu": 731.8708341315839,
          "pred_q10": 516.058763401624,
          "pred_q90": 1044.044271955034,
          "row": 68,
          "state": "NY"
         },
         {
          "date": "2020-03-27T00:00:00",
          "daysi": 16,
          "pred_mu": 9.9576043196438,
          "pred_q10": 5.127262399148539,
          "pred_q90": 19.332863933586,
          "row": 69,
          "state": "OR"
         },
         {
          "date": "2020-03-27T00:00:00",
          "daysi": 16,
          "pred_mu": 10.115313421093045,
          "pred_q10": 5.422180475358208,
          "pred_q90": 18.709378746974462,
          "row": 70,
          "state": "TX"
         },
         {
          "date": "2020-03-27T00:00:00",
          "daysi": 16,
          "pred_mu": 172.10555739422009,
          "pred_q10": 132.43574715707445,
          "pred_q90": 224.33575021949514,
          "row": 71,
          "state": "WA"
         },
         {
          "date": "2020-03-28T00:00:00",
          "daysi": 17,
          "pred_mu": 111.15226317012257,
          "pred_q10": 83.68176995194129,
          "pred_q90": 148.1350882338048,
          "row": 72,
          "state": "CA"
         },
         {
          "date": "2020-03-28T00:00:00",
          "daysi": 17,
          "pred_mu": 15.859952239494698,
          "pred_q10": 7.666813289689489,
          "pred_q90": 33.61690246012727,
          "row": 73,
          "state": "CO"
         },
         {
          "date": "2020-03-28T00:00:00",
          "daysi": 17,
          "pred_mu": 43.45794444458345,
          "pred_q10": 31.035282906018733,
          "pred_q90": 60.93276819298234,
          "row": 74,
          "state": "FL"
         },
         {
          "date": "2020-03-28T00:00:00",
          "daysi": 17,
          "pred_mu": 96.3061298453121,
          "pred_q10": 54.20552932625036,
          "pred_q90": 169.65199320450571,
          "row": 75,
          "state": "GA"
         },
         {
          "date": "2020-03-28T00:00:00",
          "daysi": 17,
          "pred_mu": 35.392148139666254,
          "pred_q10": 19.974017035982442,
          "pred_q90": 62.47877529144658,
          "row": 76,
          "state": "IL"
         },
         {
          "date": "2020-03-28T00:00:00",
          "daysi": 17,
          "pred_mu": 20.894148274495816,
          "pred_q10": 9.705948898340793,
          "pred_q90": 44.41757452191409,
          "row": 77,
          "state": "IN"
         },
         {
          "date": "2020-03-28T00:00:00",
          "daysi": 17,
          "pred_mu": 137.00604102588346,
          "pred_q10": 88.71262025060817,
          "pred_q90": 209.5683967948686,
          "row": 78,
          "state": "LA"
         },
         {
          "date": "2020-03-28T00:00:00",
          "daysi": 17,
          "pred_mu": 133.7251262847109,
          "pred_q10": 81.37237742179414,
          "pred_q90": 216.13694779214836,
          "row": 79,
          "state": "NJ"
         },
         {
          "date": "2020-03-28T00:00:00",
          "daysi": 17,
          "pred_mu": 1149.0752233193837,
          "pred_q10": 781.5060428456076,
          "pred_q90": 1699.1048765928772,
          "row": 80,
          "state": "NY"
         },
         {
          "date": "2020-03-28T00:00:00",
          "daysi": 17,
          "pred_mu": 11.92659050411427,
          "pred_q10": 5.458110270118263,
          "pred_q90": 25.861229729603043,
          "row": 81,
          "state": "OR"
         },
         {
          "date": "2020-03-28T00:00:00",
          "daysi": 17,
          "pred_mu": 11.363759513604027,
          "pred_q10": 5.5902872372163905,
          "pred_q90": 22.79921465445273,
          "row": 82,
          "state": "TX"
         },
         {
          "date": "2020-03-28T00:00:00",
          "daysi": 17,
          "pred_mu": 196.15885818355042,
          "pred_q10": 149.25509437356936,
          "pred_q90": 260.83310705271856,
          "row": 83,
          "state": "WA"
         },
         {
          "date": "2020-03-29T00:00:00",
          "daysi": 18,
          "pred_mu": 138.72321394789628,
          "pred_q10": 102.39726321451184,
          "pred_q90": 186.56497585334938,
          "row": 84,
          "state": "CA"
         },
         {
          "date": "2020-03-29T00:00:00",
          "daysi": 18,
          "pred_mu": 19.147618724491114,
          "pred_q10": 8.283318355870103,
          "pred_q90": 44.44377259050959,
          "row": 85,
          "state": "CO"
         },
         {
          "date": "2020-03-29T00:00:00",
          "daysi": 18,
          "pred_mu": 52.40291104409882,
          "pred_q10": 35.97073333054091,
          "pred_q90": 75.7931588820566,
          "row": 86,
          "state": "FL"
         },
         {
          "date": "2020-03-29T00:00:00",
          "daysi": 18,
          "pred_mu": 124.30098351494617,
          "pred_q10": 66.09871064958165,
          "pred_q90": 231.02651907375818,
          "row": 87,
          "state": "GA"
         },
         {
          "date": "2020-03-29T00:00:00",
          "daysi": 18,
          "pred_mu": 44.79240670715194,
          "pred_q10": 23.42862218436388,
          "pred_q90": 83.90321864358002,
          "row": 88,
          "state": "IL"
         },
         {
          "date": "2020-03-29T00:00:00",
          "daysi": 18,
          "pred_mu": 26.067778927771542,
          "pred_q10": 11.023988557366257,
          "pred_q90": 61.869865083785704,
          "row": 89,
          "state": "IN"
         },
         {
          "date": "2020-03-29T00:00:00",
          "daysi": 18,
          "pred_mu": 187.7655818379539,
          "pred_q10": 117.0689490020535,
          "pred_q90": 296.3250334263291,
          "row": 90,
          "state": "LA"
         },
         {
          "date": "2020-03-29T00:00:00",
          "daysi": 18,
          "pred_mu": 183.44806636178552,
          "pred_q10": 106.82453874117253,
          "pred_q90": 316.97642772137203,
          "row": 91,
          "state": "NJ"
         },
         {
          "date": "2020-03-29T00:00:00",
          "daysi": 18,
          "pred_mu": 1815.344051019884,
          "pred_q10": 1205.72801025096,
          "pred_q90": 2755.6087154014103,
          "row": 92,
          "state": "NY"
         },
         {
          "date": "2020-03-29T00:00:00",
          "daysi": 18,
          "pred_mu": 14.268779491016897,
          "pred_q10": 5.834638894872861,
          "pred_q90": 34.63095091047831,
          "row": 93,
          "state": "OR"
         },
         {
          "date": "2020-03-29T00:00:00",
          "daysi": 18,
          "pred_mu": 12.789479906821088,
          "pred_q10": 5.717484002775755,
          "pred_q90": 28.064379945199928,
          "row": 94,
          "state": "TX"
         },
         {
          "date": "2020-03-29T00:00:00",
          "daysi": 18,
          "pred_mu": 221.14778716921035,
          "pred_q10": 166.94151285418175,
          "pred_q90": 293.03331193543863,
          "row": 95,
          "state": "WA"
         },
         {
          "date": "2020-03-30T00:00:00",
          "daysi": 19,
          "pred_mu": 172.77562217614837,
          "pred_q10": 126.87050078925525,
          "pred_q90": 235.85347070875156,
          "row": 96,
          "state": "CA"
         },
         {
          "date": "2020-03-30T00:00:00",
          "daysi": 19,
          "pred_mu": 23.325400563062033,
          "pred_q10": 9.141653500551321,
          "pred_q90": 60.14775737377499,
          "row": 97,
          "state": "CO"
         },
         {
          "date": "2020-03-30T00:00:00",
          "daysi": 19,
          "pred_mu": 62.95774277220655,
          "pred_q10": 42.481800995923685,
          "pred_q90": 93.48480710141258,
          "row": 98,
          "state": "FL"
         },
         {
          "date": "2020-03-30T00:00:00",
          "daysi": 19,
          "pred_mu": 161.545157880135,
          "pred_q10": 79.84973099500485,
          "pred_q90": 322.21322279248704,
          "row": 99,
          "state": "GA"
         },
         {
          "date": "2020-03-30T00:00:00",
          "daysi": 19,
          "pred_mu": 57.070963015586045,
          "pred_q10": 28.207629889392525,
          "pred_q90": 114.6509646206849,
          "row": 100,
          "state": "IL"
         },
         {
          "date": "2020-03-30T00:00:00",
          "daysi": 19,
          "pred_mu": 32.84148889661418,
          "pred_q10": 12.519637280378006,
          "pred_q90": 88.15957128175485,
          "row": 101,
          "state": "IN"
         },
         {
          "date": "2020-03-30T00:00:00",
          "daysi": 19,
          "pred_mu": 256.94413637801085,
          "pred_q10": 153.34151780144194,
          "pred_q90": 425.8851354538672,
          "row": 102,
          "state": "LA"
         },
         {
          "date": "2020-03-30T00:00:00",
          "daysi": 19,
          "pred_mu": 250.52456139243913,
          "pred_q10": 138.6581055713488,
          "pred_q90": 454.2301123394273,
          "row": 103,
          "state": "NJ"
         },
         {
          "date": "2020-03-30T00:00:00",
          "daysi": 19,
          "pred_mu": 2844.090940986324,
          "pred_q10": 1809.7660092101307,
          "pred_q90": 4494.0522892179415,
          "row": 104,
          "state": "NY"
         },
         {
          "date": "2020-03-30T00:00:00",
          "daysi": 19,
          "pred_mu": 17.087835887844474,
          "pred_q10": 6.290387982615765,
          "pred_q90": 46.21132684562016,
          "row": 105,
          "state": "OR"
         },
         {
          "date": "2020-03-30T00:00:00",
          "daysi": 19,
          "pred_mu": 14.431528920434866,
          "pred_q10": 5.988003419600389,
          "pred_q90": 34.560804529808934,
          "row": 106,
          "state": "TX"
         },
         {
          "date": "2020-03-30T00:00:00",
          "daysi": 19,
          "pred_mu": 250.73289041511353,
          "pred_q10": 186.6800978264201,
          "pred_q90": 338.29606153961004,
          "row": 107,
          "state": "WA"
         },
         {
          "date": "2020-03-31T00:00:00",
          "daysi": 20,
          "pred_mu": 215.94357310625642,
          "pred_q10": 155.17923735302915,
          "pred_q90": 298.4655049276121,
          "row": 108,
          "state": "CA"
         },
         {
          "date": "2020-03-31T00:00:00",
          "daysi": 20,
          "pred_mu": 28.075101108168457,
          "pred_q10": 9.843226972146141,
          "pred_q90": 80.34273083837427,
          "row": 109,
          "state": "CO"
         },
         {
          "date": "2020-03-31T00:00:00",
          "daysi": 20,
          "pred_mu": 76.46027728754957,
          "pred_q10": 50.53370500879986,
          "pred_q90": 115.43663359625751,
          "row": 110,
          "state": "FL"
         },
         {
          "date": "2020-03-31T00:00:00",
          "daysi": 20,
          "pred_mu": 207.4256419097642,
          "pred_q10": 95.90623764453824,
          "pred_q90": 440.79300929009963,
          "row": 111,
          "state": "GA"
         },
         {
          "date": "2020-03-31T00:00:00",
          "daysi": 20,
          "pred_mu": 72.65298452635133,
          "pred_q10": 33.98447678083355,
          "pred_q90": 158.03560142560448,
          "row": 112,
          "state": "IL"
         },
         {
          "date": "2020-03-31T00:00:00",
          "daysi": 20,
          "pred_mu": 40.74035400762448,
          "pred_q10": 13.951386443482038,
          "pred_q90": 118.81574955257987,
          "row": 113,
          "state": "IN"
         },
         {
          "date": "2020-03-31T00:00:00",
          "daysi": 20,
          "pred_mu": 348.49984289155555,
          "pred_q10": 199.1595257998866,
          "pred_q90": 598.3338757664759,
          "row": 114,
          "state": "LA"
         },
         {
          "date": "2020-03-31T00:00:00",
          "daysi": 20,
          "pred_mu": 343.00968269782135,
          "pred_q10": 182.38323581616274,
          "pred_q90": 651.0627343240027,
          "row": 115,
          "state": "NJ"
         },
         {
          "date": "2020-03-31T00:00:00",
          "daysi": 20,
          "pred_mu": 4454.572938302737,
          "pred_q10": 2743.878445581538,
          "pred_q90": 7213.65550978533,
          "row": 116,
          "state": "NY"
         },
         {
          "date": "2020-03-31T00:00:00",
          "daysi": 20,
          "pred_mu": 20.464752354815428,
          "pred_q10": 6.694858514087947,
          "pred_q90": 61.220746655692146,
          "row": 117,
          "state": "OR"
         },
         {
          "date": "2020-03-31T00:00:00",
          "daysi": 20,
          "pred_mu": 16.106104056752756,
          "pred_q10": 5.9808642039634785,
          "pred_q90": 42.85300486425464,
          "row": 118,
          "state": "TX"
         },
         {
          "date": "2020-03-31T00:00:00",
          "daysi": 20,
          "pred_mu": 283.15715756748546,
          "pred_q10": 206.168729658333,
          "pred_q90": 389.91857539243136,
          "row": 119,
          "state": "WA"
         }
        ]
       },
       "vconcat": [
        {
         "data": {
          "name": "data-d7ae5e6fc8f06d9d05683b4480893f6b"
         },
         "height": 600,
         "layer": [
          {
           "encoding": {
            "color": {
             "field": "state",
             "type": "nominal"
            },
            "tooltip": [
             {
              "field": "state",
              "type": "nominal"
             },
             {
              "field": "date",
              "type": "temporal"
             },
             {
              "field": "pred_mu",
              "type": "quantitative"
             }
            ],
            "x": {
             "field": "date",
             "title": "date",
             "type": "temporal"
            },
            "y": {
             "field": "pred_mu",
             "title": "pred_mu",
             "type": "quantitative"
            }
           },
           "mark": "line"
          },
          {
           "encoding": {
            "color": {
             "field": "state",
             "type": "nominal"
            },
            "tooltip": [
             {
              "field": "state",
              "type": "nominal"
             },
             {
              "field": "date",
              "type": "temporal"
             },
             {
              "field": "pred_mu",
              "type": "quantitative"
             }
            ],
            "x": {
             "field": "date",
             "title": "date",
             "type": "temporal"
            },
            "y": {
             "field": "pred_mu",
             "title": "pred_mu",
             "type": "quantitative"
            }
           },
           "mark": "point"
          },
          {
           "data": {
            "name": "data-f3d8df19cd9e49cc40dd75536fa49537"
           },
           "layer": [
            {
             "encoding": {
              "color": {
               "field": "state",
               "type": "nominal"
              },
              "tooltip": [
               {
                "field": "state",
                "type": "nominal"
               },
               {
                "field": "date",
                "type": "temporal"
               },
               {
                "field": "pred_mu",
                "type": "quantitative"
               }
              ],
              "x": {
               "field": "date",
               "title": "date",
               "type": "temporal"
              },
              "y": {
               "field": "pred_mu",
               "title": "pred_mu",
               "type": "quantitative"
              }
             },
             "mark": "line"
            },
            {
             "encoding": {
              "color": {
               "field": "state",
               "type": "nominal"
              },
              "tooltip": [
               {
                "field": "state",
                "type": "nominal"
               },
               {
                "field": "date",
                "type": "temporal"
               },
               {
                "field": "pred_mu",
                "type": "quantitative"
               }
              ],
              "x": {
               "field": "date",
               "title": "date",
               "type": "temporal"
              },
              "y": {
               "field": "pred_mu",
               "title": "pred_mu",
               "type": "quantitative"
              }
             },
             "mark": "point"
            },
            {
             "encoding": {
              "color": {
               "field": "state",
               "type": "nominal"
              },
              "tooltip": [
               {
                "field": "state",
                "type": "nominal"
               },
               {
                "field": "date",
                "type": "temporal"
               },
               {
                "field": "pred_mu",
                "type": "quantitative"
               }
              ],
              "x": {
               "field": "date",
               "type": "temporal"
              },
              "y": {
               "field": "pred_q10",
               "type": "quantitative"
              },
              "y2": {
               "field": "pred_q90"
              }
             },
             "mark": "errorband"
            }
           ]
          }
         ],
         "title": "ldeaths ~ (1 | state) + daysi + (0 + daysi | state)",
         "width": 900
        },
        {
         "data": {
          "name": "data-d7ae5e6fc8f06d9d05683b4480893f6b"
         },
         "height": 600,
         "layer": [
          {
           "encoding": {
            "color": {
             "field": "state",
             "type": "nominal"
            },
            "tooltip": [
             {
              "field": "state",
              "type": "nominal"
             },
             {
              "field": "date",
              "type": "temporal"
             },
             {
              "field": "pred_mu",
              "type": "quantitative"
             }
            ],
            "x": {
             "field": "date",
             "title": "date",
             "type": "temporal"
            },
            "y": {
             "field": "pred_mu",
             "scale": {
              "type": "log",
              "zero": false
             },
             "title": "pred_mu",
             "type": "quantitative"
            }
           },
           "mark": "line"
          },
          {
           "encoding": {
            "color": {
             "field": "state",
             "type": "nominal"
            },
            "tooltip": [
             {
              "field": "state",
              "type": "nominal"
             },
             {
              "field": "date",
              "type": "temporal"
             },
             {
              "field": "pred_mu",
              "type": "quantitative"
             }
            ],
            "x": {
             "field": "date",
             "title": "date",
             "type": "temporal"
            },
            "y": {
             "field": "pred_mu",
             "scale": {
              "type": "log",
              "zero": false
             },
             "title": "pred_mu",
             "type": "quantitative"
            }
           },
           "mark": "point"
          },
          {
           "data": {
            "name": "data-f3d8df19cd9e49cc40dd75536fa49537"
           },
           "layer": [
            {
             "encoding": {
              "color": {
               "field": "state",
               "type": "nominal"
              },
              "tooltip": [
               {
                "field": "state",
                "type": "nominal"
               },
               {
                "field": "date",
                "type": "temporal"
               },
               {
                "field": "pred_mu",
                "type": "quantitative"
               }
              ],
              "x": {
               "field": "date",
               "title": "date",
               "type": "temporal"
              },
              "y": {
               "field": "pred_mu",
               "scale": {
                "type": "log",
                "zero": false
               },
               "title": "pred_mu",
               "type": "quantitative"
              }
             },
             "mark": "line"
            },
            {
             "encoding": {
              "color": {
               "field": "state",
               "type": "nominal"
              },
              "tooltip": [
               {
                "field": "state",
                "type": "nominal"
               },
               {
                "field": "date",
                "type": "temporal"
               },
               {
                "field": "pred_mu",
                "type": "quantitative"
               }
              ],
              "x": {
               "field": "date",
               "title": "date",
               "type": "temporal"
              },
              "y": {
               "field": "pred_mu",
               "scale": {
                "type": "log",
                "zero": false
               },
               "title": "pred_mu",
               "type": "quantitative"
              }
             },
             "mark": "point"
            },
            {
             "encoding": {
              "color": {
               "field": "state",
               "type": "nominal"
              },
              "tooltip": [
               {
                "field": "state",
                "type": "nominal"
               },
               {
                "field": "date",
                "type": "temporal"
               },
               {
                "field": "pred_mu",
                "type": "quantitative"
               }
              ],
              "x": {
               "field": "date",
               "type": "temporal"
              },
              "y": {
               "field": "pred_q10",
               "type": "quantitative"
              },
              "y2": {
               "field": "pred_q90"
              }
             },
             "mark": "errorband"
            }
           ]
          }
         ],
         "title": "ldeaths ~ (1 | state) + daysi + (0 + daysi | state)",
         "width": 900
        }
       ]
      },
      "image/png": "[encoded data removed]",
      "text/plain": [
       "<VegaLite 3 object>\n",
       "\n",
       "If you see this message, it means the renderer has not been properly enabled\n",
       "for the frontend that you are using. For more information, see\n",
       "https://altair-viz.github.io/user_guide/troubleshooting.html\n"
      ]
     },
     "execution_count": 52,
     "metadata": {},
     "output_type": "execute_result"
    }
   ],
   "source": [
    "m2pl_lin & m2pl_log"
   ]
  },
  {
   "cell_type": "code",
   "execution_count": 49,
   "metadata": {},
   "outputs": [
    {
     "data": {
      "application/vnd.vegalite.v3+json": {
       "$schema": "https://vega.github.io/schema/vega-lite/v3.4.0.json",
       "config": {
        "mark": {
         "tooltip": null
        },
        "view": {
         "height": 300,
         "width": 400
        }
       },
       "data": {
        "name": "data-27daa018072d463f547ab2e1c1a8e4e0"
       },
       "datasets": {
        "data-27daa018072d463f547ab2e1c1a8e4e0": [
         {
          "date": "2020-03-12T00:00:00",
          "daysi": 1,
          "death": 4,
          "dupe_neg": true,
          "hospitalized": null,
          "ldeaths": 0.6020599913279624,
          "n_pct_rows": 19,
          "negative": 916,
          "perc": 0.1806797853309481,
          "pos_delayed": null,
          "positive": 202,
          "state": "CA",
          "total": 1118
         },
         {
          "date": "2020-03-13T00:00:00",
          "daysi": 2,
          "death": 4,
          "dupe_neg": true,
          "hospitalized": null,
          "ldeaths": 0.6020599913279624,
          "n_pct_rows": 19,
          "negative": 916,
          "perc": 0.1806797853309481,
          "pos_delayed": null,
          "positive": 202,
          "state": "CA",
          "total": 1118
         },
         {
          "date": "2020-03-14T00:00:00",
          "daysi": 3,
          "death": 5,
          "dupe_neg": true,
          "hospitalized": null,
          "ldeaths": 0.6989700043360189,
          "n_pct_rows": 19,
          "negative": 916,
          "perc": 0.21575342465753425,
          "pos_delayed": null,
          "positive": 252,
          "state": "CA",
          "total": 1168
         },
         {
          "date": "2020-03-15T00:00:00",
          "daysi": 4,
          "death": 5,
          "dupe_neg": true,
          "hospitalized": null,
          "ldeaths": 0.6989700043360189,
          "n_pct_rows": 19,
          "negative": 916,
          "perc": 0.24234904880066171,
          "pos_delayed": null,
          "positive": 293,
          "state": "CA",
          "total": 1209
         },
         {
          "date": "2020-03-16T00:00:00",
          "daysi": 5,
          "death": 6,
          "dupe_neg": false,
          "hospitalized": null,
          "ldeaths": 0.7781512503836436,
          "n_pct_rows": 19,
          "negative": 7981,
          "perc": 0.04028379028379028,
          "pos_delayed": 202,
          "positive": 335,
          "state": "CA",
          "total": 8316
         },
         {
          "date": "2020-03-17T00:00:00",
          "daysi": 6,
          "death": 11,
          "dupe_neg": true,
          "hospitalized": null,
          "ldeaths": 1.0413926851582251,
          "n_pct_rows": 19,
          "negative": 7981,
          "perc": 0.057065217391304345,
          "pos_delayed": 202,
          "positive": 483,
          "state": "CA",
          "total": 8407
         },
         {
          "date": "2020-03-18T00:00:00",
          "daysi": 7,
          "death": 13,
          "dupe_neg": true,
          "hospitalized": null,
          "ldeaths": 1.1139433523068367,
          "n_pct_rows": 19,
          "negative": 7981,
          "perc": 0.07111266294227188,
          "pos_delayed": 252,
          "positive": 611,
          "state": "CA",
          "total": 8592
         },
         {
          "date": "2020-03-19T00:00:00",
          "daysi": 8,
          "death": 18,
          "dupe_neg": false,
          "hospitalized": null,
          "ldeaths": 1.255272505103306,
          "n_pct_rows": 19,
          "negative": 8787,
          "perc": 0.09514983008958913,
          "pos_delayed": 293,
          "positive": 924,
          "state": "CA",
          "total": 9711
         },
         {
          "date": "2020-03-20T00:00:00",
          "daysi": 9,
          "death": 20,
          "dupe_neg": false,
          "hospitalized": null,
          "ldeaths": 1.3010299956639813,
          "n_pct_rows": 19,
          "negative": 10424,
          "perc": 0.092539392356577,
          "pos_delayed": 335,
          "positive": 1063,
          "state": "CA",
          "total": 11487
         },
         {
          "date": "2020-03-21T00:00:00",
          "daysi": 10,
          "death": 24,
          "dupe_neg": false,
          "hospitalized": null,
          "ldeaths": 1.380211241711606,
          "n_pct_rows": 19,
          "negative": 11249,
          "perc": 0.10209131545338442,
          "pos_delayed": 483,
          "positive": 1279,
          "state": "CA",
          "total": 12528
         },
         {
          "date": "2020-03-22T00:00:00",
          "daysi": 11,
          "death": 27,
          "dupe_neg": false,
          "hospitalized": null,
          "ldeaths": 1.4313637641589874,
          "n_pct_rows": 19,
          "negative": 11304,
          "perc": 0.11962616822429907,
          "pos_delayed": 611,
          "positive": 1536,
          "state": "CA",
          "total": 12840
         },
         {
          "date": "2020-03-21T00:00:00",
          "daysi": 10,
          "death": 4,
          "dupe_neg": false,
          "hospitalized": 44,
          "ldeaths": 0.6020599913279624,
          "n_pct_rows": 13,
          "negative": 3317,
          "perc": 0.09864130434782609,
          "pos_delayed": null,
          "positive": 363,
          "state": "CO",
          "total": 3680
         },
         {
          "date": "2020-03-22T00:00:00",
          "daysi": 11,
          "death": 5,
          "dupe_neg": false,
          "hospitalized": 49,
          "ldeaths": 0.6989700043360189,
          "n_pct_rows": 13,
          "negative": 4075,
          "perc": 0.1043956043956044,
          "pos_delayed": null,
          "positive": 475,
          "state": "CO",
          "total": 4550
         },
         {
          "date": "2020-03-15T00:00:00",
          "daysi": 4,
          "death": 4,
          "dupe_neg": false,
          "hospitalized": null,
          "ldeaths": 0.6020599913279624,
          "n_pct_rows": 16,
          "negative": 678,
          "perc": 0.14609571788413098,
          "pos_delayed": null,
          "positive": 116,
          "state": "FL",
          "total": 1248
         },
         {
          "date": "2020-03-16T00:00:00",
          "daysi": 5,
          "death": 4,
          "dupe_neg": false,
          "hospitalized": null,
          "ldeaths": 0.6020599913279624,
          "n_pct_rows": 16,
          "negative": 684,
          "perc": 0.1709090909090909,
          "pos_delayed": null,
          "positive": 141,
          "state": "FL",
          "total": 1339
         },
         {
          "date": "2020-03-17T00:00:00",
          "daysi": 6,
          "death": 6,
          "dupe_neg": false,
          "hospitalized": null,
          "ldeaths": 0.7781512503836436,
          "n_pct_rows": 16,
          "negative": 940,
          "perc": 0.16518650088809947,
          "pos_delayed": null,
          "positive": 186,
          "state": "FL",
          "total": 1998
         },
         {
          "date": "2020-03-18T00:00:00",
          "daysi": 7,
          "death": 7,
          "dupe_neg": false,
          "hospitalized": null,
          "ldeaths": 0.8450980400142568,
          "n_pct_rows": 16,
          "negative": 1225,
          "perc": 0.20402858999350226,
          "pos_delayed": null,
          "positive": 314,
          "state": "FL",
          "total": 2493
         },
         {
          "date": "2020-03-19T00:00:00",
          "daysi": 8,
          "death": 8,
          "dupe_neg": false,
          "hospitalized": null,
          "ldeaths": 0.9030899869919435,
          "n_pct_rows": 16,
          "negative": 1533,
          "perc": 0.20280811232449297,
          "pos_delayed": 116,
          "positive": 390,
          "state": "FL",
          "total": 2942
         },
         {
          "date": "2020-03-20T00:00:00",
          "daysi": 9,
          "death": 10,
          "dupe_neg": false,
          "hospitalized": null,
          "ldeaths": 1,
          "n_pct_rows": 16,
          "negative": 1870,
          "perc": 0.2175732217573222,
          "pos_delayed": 141,
          "positive": 520,
          "state": "FL",
          "total": 3416
         },
         {
          "date": "2020-03-21T00:00:00",
          "daysi": 10,
          "death": 12,
          "dupe_neg": false,
          "hospitalized": 158,
          "ldeaths": 1.0791812460476249,
          "n_pct_rows": 16,
          "negative": 6579,
          "perc": 0.09092165261848832,
          "pos_delayed": 186,
          "positive": 658,
          "state": "FL",
          "total": 8239
         },
         {
          "date": "2020-03-22T00:00:00",
          "daysi": 11,
          "death": 13,
          "dupe_neg": false,
          "hospitalized": 185,
          "ldeaths": 1.1139433523068367,
          "n_pct_rows": 16,
          "negative": 7990,
          "perc": 0.09410430839002268,
          "pos_delayed": 314,
          "positive": 830,
          "state": "FL",
          "total": 9783
         },
         {
          "date": "2020-03-19T00:00:00",
          "daysi": 8,
          "death": 10,
          "dupe_neg": false,
          "hospitalized": null,
          "ldeaths": 1,
          "n_pct_rows": 5,
          "negative": 1544,
          "perc": 0.1567449481157837,
          "pos_delayed": null,
          "positive": 287,
          "state": "GA",
          "total": 1831
         },
         {
          "date": "2020-03-20T00:00:00",
          "daysi": 9,
          "death": 13,
          "dupe_neg": false,
          "hospitalized": null,
          "ldeaths": 1.1139433523068367,
          "n_pct_rows": 5,
          "negative": 1966,
          "perc": 0.1760268231349539,
          "pos_delayed": null,
          "positive": 420,
          "state": "GA",
          "total": 2386
         },
         {
          "date": "2020-03-21T00:00:00",
          "daysi": 10,
          "death": 14,
          "dupe_neg": false,
          "hospitalized": null,
          "ldeaths": 1.146128035678238,
          "n_pct_rows": 5,
          "negative": 2557,
          "perc": 0.16546997389033943,
          "pos_delayed": null,
          "positive": 507,
          "state": "GA",
          "total": 3064
         },
         {
          "date": "2020-03-22T00:00:00",
          "daysi": 11,
          "death": 23,
          "dupe_neg": false,
          "hospitalized": null,
          "ldeaths": 1.3617278360175928,
          "n_pct_rows": 5,
          "negative": 3420,
          "perc": 0.14925373134328357,
          "pos_delayed": null,
          "positive": 600,
          "state": "GA",
          "total": 4020
         },
         {
          "date": "2020-03-19T00:00:00",
          "daysi": 8,
          "death": 4,
          "dupe_neg": false,
          "hospitalized": null,
          "ldeaths": 0.6020599913279624,
          "n_pct_rows": 13,
          "negative": 2725,
          "perc": 0.13519517613456045,
          "pos_delayed": null,
          "positive": 426,
          "state": "IL",
          "total": 3151
         },
         {
          "date": "2020-03-20T00:00:00",
          "daysi": 9,
          "death": 5,
          "dupe_neg": false,
          "hospitalized": null,
          "ldeaths": 0.6989700043360189,
          "n_pct_rows": 13,
          "negative": 3696,
          "perc": 0.13765748950069995,
          "pos_delayed": null,
          "positive": 590,
          "state": "IL",
          "total": 4286
         },
         {
          "date": "2020-03-21T00:00:00",
          "daysi": 10,
          "death": 6,
          "dupe_neg": false,
          "hospitalized": null,
          "ldeaths": 0.7781512503836436,
          "n_pct_rows": 13,
          "negative": 5488,
          "perc": 0.12149831919321274,
          "pos_delayed": null,
          "positive": 759,
          "state": "IL",
          "total": 6247
         },
         {
          "date": "2020-03-22T00:00:00",
          "daysi": 11,
          "death": 9,
          "dupe_neg": false,
          "hospitalized": null,
          "ldeaths": 0.9542425094393249,
          "n_pct_rows": 13,
          "negative": 7271,
          "perc": 0.12702605354784488,
          "pos_delayed": null,
          "positive": 1058,
          "state": "IL",
          "total": 8329
         },
         {
          "date": "2020-03-21T00:00:00",
          "daysi": 10,
          "death": 4,
          "dupe_neg": false,
          "hospitalized": 1,
          "ldeaths": 0.6020599913279624,
          "n_pct_rows": 11,
          "negative": 707,
          "perc": 0.15126050420168066,
          "pos_delayed": null,
          "positive": 126,
          "state": "IN",
          "total": 833
         },
         {
          "date": "2020-03-22T00:00:00",
          "daysi": 11,
          "death": 6,
          "dupe_neg": false,
          "hospitalized": 1,
          "ldeaths": 0.7781512503836436,
          "n_pct_rows": 11,
          "negative": 1293,
          "perc": 0.13453815261044177,
          "pos_delayed": null,
          "positive": 201,
          "state": "IN",
          "total": 1494
         },
         {
          "date": "2020-03-17T00:00:00",
          "daysi": 6,
          "death": 4,
          "dupe_neg": false,
          "hospitalized": null,
          "ldeaths": 0.6020599913279624,
          "n_pct_rows": 11,
          "negative": 286,
          "perc": 0.3741794310722101,
          "pos_delayed": null,
          "positive": 171,
          "state": "LA",
          "total": 457
         },
         {
          "date": "2020-03-18T00:00:00",
          "daysi": 7,
          "death": 6,
          "dupe_neg": false,
          "hospitalized": null,
          "ldeaths": 0.7781512503836436,
          "n_pct_rows": 11,
          "negative": 335,
          "perc": 0.41739130434782606,
          "pos_delayed": null,
          "positive": 240,
          "state": "LA",
          "total": 575
         },
         {
          "date": "2020-03-19T00:00:00",
          "daysi": 8,
          "death": 8,
          "dupe_neg": false,
          "hospitalized": null,
          "ldeaths": 0.9030899869919435,
          "n_pct_rows": 11,
          "negative": 458,
          "perc": 0.43105590062111804,
          "pos_delayed": null,
          "positive": 347,
          "state": "LA",
          "total": 805
         },
         {
          "date": "2020-03-20T00:00:00",
          "daysi": 9,
          "death": 12,
          "dupe_neg": false,
          "hospitalized": null,
          "ldeaths": 1.0791812460476249,
          "n_pct_rows": 11,
          "negative": 568,
          "perc": 0.4574976122254059,
          "pos_delayed": null,
          "positive": 479,
          "state": "LA",
          "total": 1047
         },
         {
          "date": "2020-03-21T00:00:00",
          "daysi": 10,
          "death": 16,
          "dupe_neg": false,
          "hospitalized": null,
          "ldeaths": 1.2041199826559248,
          "n_pct_rows": 11,
          "negative": 2180,
          "perc": 0.2115732368896926,
          "pos_delayed": 171,
          "positive": 585,
          "state": "LA",
          "total": 2765
         },
         {
          "date": "2020-03-22T00:00:00",
          "daysi": 11,
          "death": 20,
          "dupe_neg": false,
          "hospitalized": null,
          "ldeaths": 1.3010299956639813,
          "n_pct_rows": 11,
          "negative": 2661,
          "perc": 0.23927958833619212,
          "pos_delayed": 240,
          "positive": 837,
          "state": "LA",
          "total": 3498
         },
         {
          "date": "2020-03-18T00:00:00",
          "daysi": 7,
          "death": 5,
          "dupe_neg": false,
          "hospitalized": null,
          "ldeaths": 0.6989700043360189,
          "n_pct_rows": 14,
          "negative": 190,
          "perc": 0.6920583468395461,
          "pos_delayed": null,
          "positive": 427,
          "state": "NJ",
          "total": 638
         },
         {
          "date": "2020-03-19T00:00:00",
          "daysi": 8,
          "death": 9,
          "dupe_neg": false,
          "hospitalized": null,
          "ldeaths": 0.9542425094393249,
          "n_pct_rows": 14,
          "negative": 210,
          "perc": 0.7794117647058824,
          "pos_delayed": null,
          "positive": 742,
          "state": "NJ",
          "total": 1026
         },
         {
          "date": "2020-03-20T00:00:00",
          "daysi": 9,
          "death": 11,
          "dupe_neg": false,
          "hospitalized": null,
          "ldeaths": 1.0413926851582251,
          "n_pct_rows": 14,
          "negative": 264,
          "perc": 0.7712305025996534,
          "pos_delayed": null,
          "positive": 890,
          "state": "NJ",
          "total": 1240
         },
         {
          "date": "2020-03-21T00:00:00",
          "daysi": 10,
          "death": 16,
          "dupe_neg": false,
          "hospitalized": null,
          "ldeaths": 1.2041199826559248,
          "n_pct_rows": 14,
          "negative": 294,
          "perc": 0.8186304750154226,
          "pos_delayed": null,
          "positive": 1327,
          "state": "NJ",
          "total": 1661
         },
         {
          "date": "2020-03-22T00:00:00",
          "daysi": 11,
          "death": 20,
          "dupe_neg": false,
          "hospitalized": null,
          "ldeaths": 1.3010299956639813,
          "n_pct_rows": 14,
          "negative": 327,
          "perc": 0.8540829986613119,
          "pos_delayed": 427,
          "positive": 1914,
          "state": "NJ",
          "total": 2290
         },
         {
          "date": "2020-03-16T00:00:00",
          "daysi": 5,
          "death": 7,
          "dupe_neg": true,
          "hospitalized": null,
          "ldeaths": 0.8450980400142568,
          "n_pct_rows": 16,
          "negative": 4543,
          "perc": 0.17294738758419806,
          "pos_delayed": null,
          "positive": 950,
          "state": "NY",
          "total": 5493
         },
         {
          "date": "2020-03-17T00:00:00",
          "daysi": 6,
          "death": 7,
          "dupe_neg": false,
          "hospitalized": null,
          "ldeaths": 0.8450980400142568,
          "n_pct_rows": 16,
          "negative": 5506,
          "perc": 0.23591451568137664,
          "pos_delayed": null,
          "positive": 1700,
          "state": "NY",
          "total": 7206
         },
         {
          "date": "2020-03-18T00:00:00",
          "daysi": 7,
          "death": 12,
          "dupe_neg": false,
          "hospitalized": null,
          "ldeaths": 1.0791812460476249,
          "n_pct_rows": 16,
          "negative": 12215,
          "perc": 0.1631842159347811,
          "pos_delayed": null,
          "positive": 2382,
          "state": "NY",
          "total": 14597
         },
         {
          "date": "2020-03-19T00:00:00",
          "daysi": 8,
          "death": 12,
          "dupe_neg": false,
          "hospitalized": null,
          "ldeaths": 1.0791812460476249,
          "n_pct_rows": 16,
          "negative": 18132,
          "perc": 0.18632202477113624,
          "pos_delayed": null,
          "positive": 4152,
          "state": "NY",
          "total": 22284
         },
         {
          "date": "2020-03-20T00:00:00",
          "daysi": 9,
          "death": 35,
          "dupe_neg": false,
          "hospitalized": null,
          "ldeaths": 1.5440680443502757,
          "n_pct_rows": 16,
          "negative": 25325,
          "perc": 0.21901501834890677,
          "pos_delayed": 950,
          "positive": 7102,
          "state": "NY",
          "total": 32427
         },
         {
          "date": "2020-03-21T00:00:00",
          "daysi": 10,
          "death": 44,
          "dupe_neg": false,
          "hospitalized": 1603,
          "ldeaths": 1.6434526764861874,
          "n_pct_rows": 16,
          "negative": 35081,
          "perc": 0.2279199771111649,
          "pos_delayed": 1700,
          "positive": 10356,
          "state": "NY",
          "total": 45437
         },
         {
          "date": "2020-03-22T00:00:00",
          "daysi": 11,
          "death": 114,
          "dupe_neg": false,
          "hospitalized": 1974,
          "ldeaths": 2.0569048513364727,
          "n_pct_rows": 16,
          "negative": 46233,
          "perc": 0.24703180729955537,
          "pos_delayed": 2382,
          "positive": 15168,
          "state": "NY",
          "total": 61401
         },
         {
          "date": "2020-03-22T00:00:00",
          "daysi": 11,
          "death": 4,
          "dupe_neg": false,
          "hospitalized": 43,
          "ldeaths": 0.6020599913279624,
          "n_pct_rows": 15,
          "negative": 2864,
          "perc": 0.053223140495867766,
          "pos_delayed": null,
          "positive": 161,
          "state": "OR",
          "total": 3025
         },
         {
          "date": "2020-03-20T00:00:00",
          "daysi": 9,
          "death": 5,
          "dupe_neg": false,
          "hospitalized": null,
          "ldeaths": 0.6989700043360189,
          "n_pct_rows": 6,
          "negative": 5083,
          "perc": 0.03676331248815615,
          "pos_delayed": null,
          "positive": 194,
          "state": "TX",
          "total": 5277
         },
         {
          "date": "2020-03-21T00:00:00",
          "daysi": 10,
          "death": 5,
          "dupe_neg": false,
          "hospitalized": null,
          "ldeaths": 0.6989700043360189,
          "n_pct_rows": 6,
          "negative": 6218,
          "perc": 0.04661146887457835,
          "pos_delayed": null,
          "positive": 304,
          "state": "TX",
          "total": 6522
         },
         {
          "date": "2020-03-22T00:00:00",
          "daysi": 11,
          "death": 5,
          "dupe_neg": false,
          "hospitalized": null,
          "ldeaths": 0.6989700043360189,
          "n_pct_rows": 6,
          "negative": 8422,
          "perc": 0.038145271813613525,
          "pos_delayed": null,
          "positive": 334,
          "state": "TX",
          "total": 8756
         },
         {
          "date": "2020-03-11T00:00:00",
          "daysi": 0,
          "death": 24,
          "dupe_neg": false,
          "hospitalized": null,
          "ldeaths": 1.380211241711606,
          "n_pct_rows": 17,
          "negative": 2175,
          "perc": 0.10933660933660934,
          "pos_delayed": null,
          "positive": 267,
          "state": "WA",
          "total": 2466
         },
         {
          "date": "2020-03-12T00:00:00",
          "daysi": 1,
          "death": 29,
          "dupe_neg": false,
          "hospitalized": null,
          "ldeaths": 1.462397997898956,
          "n_pct_rows": 17,
          "negative": 3037,
          "perc": 0.0998814463544754,
          "pos_delayed": null,
          "positive": 337,
          "state": "WA",
          "total": 3403
         },
         {
          "date": "2020-03-13T00:00:00",
          "daysi": 2,
          "death": 31,
          "dupe_neg": false,
          "hospitalized": null,
          "ldeaths": 1.4913616938342726,
          "n_pct_rows": 17,
          "negative": 4350,
          "perc": 0.0950696900353651,
          "pos_delayed": null,
          "positive": 457,
          "state": "WA",
          "total": 4807
         },
         {
          "date": "2020-03-14T00:00:00",
          "daysi": 3,
          "death": 37,
          "dupe_neg": false,
          "hospitalized": null,
          "ldeaths": 1.568201724066995,
          "n_pct_rows": 17,
          "negative": 6001,
          "perc": 0.08646673770741362,
          "pos_delayed": null,
          "positive": 568,
          "state": "WA",
          "total": 6569
         },
         {
          "date": "2020-03-15T00:00:00",
          "daysi": 4,
          "death": 40,
          "dupe_neg": false,
          "hospitalized": null,
          "ldeaths": 1.6020599913279623,
          "n_pct_rows": 17,
          "negative": 7122,
          "perc": 0.08268933539412673,
          "pos_delayed": 267,
          "positive": 642,
          "state": "WA",
          "total": 7764
         },
         {
          "date": "2020-03-16T00:00:00",
          "daysi": 5,
          "death": 42,
          "dupe_neg": false,
          "hospitalized": null,
          "ldeaths": 1.6232492903979006,
          "n_pct_rows": 17,
          "negative": 9451,
          "perc": 0.07524461839530333,
          "pos_delayed": 337,
          "positive": 769,
          "state": "WA",
          "total": 10220
         },
         {
          "date": "2020-03-17T00:00:00",
          "daysi": 6,
          "death": 48,
          "dupe_neg": false,
          "hospitalized": null,
          "ldeaths": 1.6812412373755872,
          "n_pct_rows": 17,
          "negative": 11582,
          "perc": 0.07240108921992632,
          "pos_delayed": 457,
          "positive": 904,
          "state": "WA",
          "total": 12486
         },
         {
          "date": "2020-03-18T00:00:00",
          "daysi": 7,
          "death": 52,
          "dupe_neg": false,
          "hospitalized": null,
          "ldeaths": 1.7160033436347992,
          "n_pct_rows": 17,
          "negative": 13117,
          "perc": 0.07162573430532947,
          "pos_delayed": 568,
          "positive": 1012,
          "state": "WA",
          "total": 14129
         },
         {
          "date": "2020-03-19T00:00:00",
          "daysi": 8,
          "death": 66,
          "dupe_neg": false,
          "hospitalized": null,
          "ldeaths": 1.8195439355418688,
          "n_pct_rows": 17,
          "negative": 15918,
          "perc": 0.06939491376790412,
          "pos_delayed": 642,
          "positive": 1187,
          "state": "WA",
          "total": 17105
         },
         {
          "date": "2020-03-20T00:00:00",
          "daysi": 9,
          "death": 74,
          "dupe_neg": false,
          "hospitalized": null,
          "ldeaths": 1.8692317197309762,
          "n_pct_rows": 17,
          "negative": 19336,
          "perc": 0.0664349169563538,
          "pos_delayed": 769,
          "positive": 1376,
          "state": "WA",
          "total": 20712
         },
         {
          "date": "2020-03-21T00:00:00",
          "daysi": 10,
          "death": 83,
          "dupe_neg": false,
          "hospitalized": null,
          "ldeaths": 1.919078092376074,
          "n_pct_rows": 17,
          "negative": 21719,
          "perc": 0.06556812803854924,
          "pos_delayed": 904,
          "positive": 1524,
          "state": "WA",
          "total": 23243
         },
         {
          "date": "2020-03-22T00:00:00",
          "daysi": 11,
          "death": 94,
          "dupe_neg": false,
          "hospitalized": null,
          "ldeaths": 1.9731278535996986,
          "n_pct_rows": 17,
          "negative": 25328,
          "perc": 0.06611113159544264,
          "pos_delayed": 1012,
          "positive": 1793,
          "state": "WA",
          "total": 27121
         }
        ]
       },
       "layer": [
        {
         "encoding": {
          "color": {
           "field": "state",
           "type": "nominal"
          },
          "tooltip": [
           {
            "field": "state",
            "type": "nominal"
           },
           {
            "field": "daysi",
            "type": "quantitative"
           },
           {
            "field": "death",
            "type": "quantitative"
           }
          ],
          "x": {
           "field": "daysi",
           "title": "daysi",
           "type": "quantitative"
          },
          "y": {
           "field": "death",
           "scale": {
            "type": "log",
            "zero": false
           },
           "title": "death",
           "type": "quantitative"
          }
         },
         "mark": "line",
         "selection": {
          "selector001": {
           "bind": "scales",
           "encodings": [
            "x",
            "y"
           ],
           "type": "interval"
          }
         }
        },
        {
         "encoding": {
          "color": {
           "field": "state",
           "type": "nominal"
          },
          "tooltip": [
           {
            "field": "state",
            "type": "nominal"
           },
           {
            "field": "daysi",
            "type": "quantitative"
           },
           {
            "field": "death",
            "type": "quantitative"
           }
          ],
          "x": {
           "field": "daysi",
           "title": "daysi",
           "type": "quantitative"
          },
          "y": {
           "field": "death",
           "scale": {
            "type": "log",
            "zero": false
           },
           "title": "death",
           "type": "quantitative"
          }
         },
         "mark": "point"
        }
       ]
      },
      "image/png": "[encoded data removed]",
      "text/plain": [
       "<VegaLite 3 object>\n",
       "\n",
       "If you see this message, it means the renderer has not been properly enabled\n",
       "for the frontend that you are using. For more information, see\n",
       "https://altair-viz.github.io/user_guide/troubleshooting.html\n"
      ]
     },
     "execution_count": 49,
     "metadata": {},
     "output_type": "execute_result"
    }
   ],
   "source": [
    "p2 = pl(dfd, x='daysi', y='death')\n",
    "p2"
   ]
  },
  {
   "cell_type": "code",
   "execution_count": 113,
   "metadata": {},
   "outputs": [
    {
     "data": {
      "text/html": [
       "<div>\n",
       "<style scoped>\n",
       "    .dataframe tbody tr th:only-of-type {\n",
       "        vertical-align: middle;\n",
       "    }\n",
       "\n",
       "    .dataframe tbody tr th {\n",
       "        vertical-align: top;\n",
       "    }\n",
       "\n",
       "    .dataframe thead th {\n",
       "        text-align: right;\n",
       "    }\n",
       "</style>\n",
       "<table border=\"1\" class=\"dataframe\">\n",
       "  <thead>\n",
       "    <tr style=\"text-align: right;\">\n",
       "      <th></th>\n",
       "      <th>date</th>\n",
       "      <th>state</th>\n",
       "      <th>positive</th>\n",
       "      <th>negative</th>\n",
       "      <th>pending</th>\n",
       "      <th>death</th>\n",
       "      <th>total</th>\n",
       "      <th>dateChecked</th>\n",
       "      <th>perc</th>\n",
       "      <th>dupe_neg</th>\n",
       "      <th>n_pct_rows</th>\n",
       "    </tr>\n",
       "  </thead>\n",
       "  <tbody>\n",
       "    <tr>\n",
       "      <th>0</th>\n",
       "      <td>2020-03-06</td>\n",
       "      <td>AK</td>\n",
       "      <td>0</td>\n",
       "      <td>8.0</td>\n",
       "      <td>1.0</td>\n",
       "      <td>NaN</td>\n",
       "      <td>9</td>\n",
       "      <td>2020-03-06T21:00:00Z</td>\n",
       "      <td>0.0</td>\n",
       "      <td>False</td>\n",
       "      <td>1</td>\n",
       "    </tr>\n",
       "    <tr>\n",
       "      <th>1</th>\n",
       "      <td>2020-03-07</td>\n",
       "      <td>AK</td>\n",
       "      <td>0</td>\n",
       "      <td>12.0</td>\n",
       "      <td>2.0</td>\n",
       "      <td>NaN</td>\n",
       "      <td>14</td>\n",
       "      <td>2020-03-07T21:00:00Z</td>\n",
       "      <td>0.0</td>\n",
       "      <td>False</td>\n",
       "      <td>1</td>\n",
       "    </tr>\n",
       "    <tr>\n",
       "      <th>2</th>\n",
       "      <td>2020-03-08</td>\n",
       "      <td>AK</td>\n",
       "      <td>0</td>\n",
       "      <td>14.0</td>\n",
       "      <td>6.0</td>\n",
       "      <td>NaN</td>\n",
       "      <td>20</td>\n",
       "      <td>2020-03-08T20:00:00Z</td>\n",
       "      <td>0.0</td>\n",
       "      <td>False</td>\n",
       "      <td>1</td>\n",
       "    </tr>\n",
       "  </tbody>\n",
       "</table>\n",
       "</div>"
      ],
      "text/plain": [
       "        date state  positive  negative  pending  death  total           dateChecked  perc  dupe_neg  n_pct_rows\n",
       "0 2020-03-06    AK         0       8.0      1.0    NaN      9  2020-03-06T21:00:00Z   0.0     False           1\n",
       "1 2020-03-07    AK         0      12.0      2.0    NaN     14  2020-03-07T21:00:00Z   0.0     False           1\n",
       "2 2020-03-08    AK         0      14.0      6.0    NaN     20  2020-03-08T20:00:00Z   0.0     False           1"
      ]
     },
     "execution_count": 113,
     "metadata": {},
     "output_type": "execute_result"
    }
   ],
   "source": [
    "dfs[:3]"
   ]
  },
  {
   "cell_type": "code",
   "execution_count": 114,
   "metadata": {},
   "outputs": [],
   "source": [
    "pdf = dfs.query(\"positive > 0\").query(\"n_pct_rows > 3\")"
   ]
  },
  {
   "cell_type": "code",
   "execution_count": 115,
   "metadata": {},
   "outputs": [
    {
     "data": {
      "application/vnd.vegalite.v3+json": {
       "$schema": "https://vega.github.io/schema/vega-lite/v3.4.0.json",
       "config": {
        "mark": {
         "tooltip": null
        },
        "view": {
         "height": 300,
         "width": 400
        }
       },
       "hconcat": [
        {
         "data": {
          "format": {
           "type": "json"
          },
          "url": "data/altair-data-891cab7b8c26fa9dc75e108c785baebd.json"
         },
         "layer": [
          {
           "encoding": {
            "color": {
             "field": "state",
             "type": "nominal"
            },
            "tooltip": [
             {
              "field": "state",
              "type": "nominal"
             },
             {
              "field": "date",
              "type": "temporal"
             },
             {
              "field": "positive",
              "type": "quantitative"
             }
            ],
            "x": {
             "field": "date",
             "title": "date",
             "type": "temporal"
            },
            "y": {
             "field": "positive",
             "scale": {
              "type": "log",
              "zero": false
             },
             "title": "positive",
             "type": "quantitative"
            }
           },
           "mark": "line",
           "selection": {
            "selector040": {
             "bind": "scales",
             "encodings": [
              "x",
              "y"
             ],
             "type": "interval"
            }
           }
          },
          {
           "encoding": {
            "color": {
             "field": "state",
             "type": "nominal"
            },
            "tooltip": [
             {
              "field": "state",
              "type": "nominal"
             },
             {
              "field": "date",
              "type": "temporal"
             },
             {
              "field": "positive",
              "type": "quantitative"
             }
            ],
            "x": {
             "field": "date",
             "title": "date",
             "type": "temporal"
            },
            "y": {
             "field": "positive",
             "scale": {
              "type": "log",
              "zero": false
             },
             "title": "positive",
             "type": "quantitative"
            }
           },
           "mark": "point"
          }
         ]
        },
        {
         "data": {
          "format": {
           "type": "json"
          },
          "url": "data/altair-data-07efd9123651def8f5efbd4f10292c27.json"
         },
         "layer": [
          {
           "encoding": {
            "color": {
             "field": "state",
             "type": "nominal"
            },
            "tooltip": [
             {
              "field": "state",
              "type": "nominal"
             },
             {
              "field": "date",
              "type": "temporal"
             },
             {
              "field": "negative",
              "type": "quantitative"
             }
            ],
            "x": {
             "field": "date",
             "title": "date",
             "type": "temporal"
            },
            "y": {
             "field": "negative",
             "scale": {
              "type": "log",
              "zero": false
             },
             "title": "negative",
             "type": "quantitative"
            }
           },
           "mark": "line",
           "selection": {
            "selector041": {
             "bind": "scales",
             "encodings": [
              "x",
              "y"
             ],
             "type": "interval"
            }
           }
          },
          {
           "encoding": {
            "color": {
             "field": "state",
             "type": "nominal"
            },
            "tooltip": [
             {
              "field": "state",
              "type": "nominal"
             },
             {
              "field": "date",
              "type": "temporal"
             },
             {
              "field": "negative",
              "type": "quantitative"
             }
            ],
            "x": {
             "field": "date",
             "title": "date",
             "type": "temporal"
            },
            "y": {
             "field": "negative",
             "scale": {
              "type": "log",
              "zero": false
             },
             "title": "negative",
             "type": "quantitative"
            }
           },
           "mark": "point"
          }
         ]
        },
        {
         "data": {
          "format": {
           "type": "json"
          },
          "url": "data/altair-data-07efd9123651def8f5efbd4f10292c27.json"
         },
         "layer": [
          {
           "encoding": {
            "color": {
             "field": "state",
             "type": "nominal"
            },
            "tooltip": [
             {
              "field": "state",
              "type": "nominal"
             },
             {
              "field": "date",
              "type": "temporal"
             },
             {
              "field": "perc",
              "type": "quantitative"
             }
            ],
            "x": {
             "field": "date",
             "title": "date",
             "type": "temporal"
            },
            "y": {
             "field": "perc",
             "title": "perc",
             "type": "quantitative"
            }
           },
           "mark": "line",
           "selection": {
            "selector042": {
             "bind": "scales",
             "encodings": [
              "x",
              "y"
             ],
             "type": "interval"
            }
           }
          },
          {
           "encoding": {
            "color": {
             "field": "state",
             "type": "nominal"
            },
            "tooltip": [
             {
              "field": "state",
              "type": "nominal"
             },
             {
              "field": "date",
              "type": "temporal"
             },
             {
              "field": "perc",
              "type": "quantitative"
             }
            ],
            "x": {
             "field": "date",
             "title": "date",
             "type": "temporal"
            },
            "y": {
             "field": "perc",
             "title": "perc",
             "type": "quantitative"
            }
           },
           "mark": "point"
          }
         ]
        }
       ]
      },
      "image/png": "[encoded data removed]",
      "text/plain": [
       "<VegaLite 3 object>\n",
       "\n",
       "If you see this message, it means the renderer has not been properly enabled\n",
       "for the frontend that you are using. For more information, see\n",
       "https://altair-viz.github.io/user_guide/troubleshooting.html\n"
      ]
     },
     "execution_count": 115,
     "metadata": {},
     "output_type": "execute_result"
    }
   ],
   "source": [
    "pl(pdf, color=\"state\") | pl(pdf.query(\"~dupe_neg\"), y=\"negative\") |  pl(pdf.query(\"~dupe_neg\"), y=\"perc\", logy=0)"
   ]
  }
 ],
 "metadata": {
  "jupytext": {
   "formats": "ipynb,scripts//py:percent"
  },
  "kernelspec": {
   "display_name": "Python 3",
   "language": "python",
   "name": "python3"
  },
  "language_info": {
   "codemirror_mode": {
    "name": "ipython",
    "version": 3
   },
   "file_extension": ".py",
   "mimetype": "text/x-python",
   "name": "python",
   "nbconvert_exporter": "python",
   "pygments_lexer": "ipython3",
   "version": "3.6.7"
  }
 },
 "nbformat": 4,
 "nbformat_minor": 4
}
